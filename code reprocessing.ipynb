{
 "cells": [
  {
   "cell_type": "code",
   "execution_count": 1,
   "metadata": {},
   "outputs": [
    {
     "name": "stdout",
     "output_type": "stream",
     "text": [
      "[]\n"
     ]
    }
   ],
   "source": [
    "import tensorflow as tf; print(tf.config.list_physical_devices('GPU')) #tensorflow==2.10.1 #Python 3.9.4"
   ]
  },
  {
   "cell_type": "code",
   "execution_count": 2,
   "metadata": {},
   "outputs": [
    {
     "data": {
      "text/plain": [
       "['starters',\n",
       " 'distance',\n",
       " 'position',\n",
       " 'margin',\n",
       " 'horse',\n",
       " 'trainer',\n",
       " 'jockey',\n",
       " 'weight',\n",
       " 'barrier',\n",
       " 'priceTAB',\n",
       " 'rating',\n",
       " 'priceBF',\n",
       " 'horseId',\n",
       " 'sex',\n",
       " 'age',\n",
       " 'rno',\n",
       " 'jockeyId',\n",
       " 'trainerId',\n",
       " 'Settling',\n",
       " 'Pos',\n",
       " 'Opening',\n",
       " 'Price',\n",
       " 'LSFinPos',\n",
       " 'LSMargin',\n",
       " 'LSSP',\n",
       " 'LSClass',\n",
       " 'LSBarrier',\n",
       " 'LSWeight',\n",
       " 'LSDist',\n",
       " 'Wght',\n",
       " 'Chg',\n",
       " 'Barr',\n",
       " 'Chg',\n",
       " 'Dist',\n",
       " 'Chg',\n",
       " 'Wght_Over_Limit',\n",
       " 'MktMoves',\n",
       " 'MarketRank']"
      ]
     },
     "execution_count": 2,
     "metadata": {},
     "output_type": "execute_result"
    }
   ],
   "source": [
    "['starters','distance','position','margin','horse','trainer','jockey','weight','barrier','priceTAB','rating','priceBF','horseId','sex','age','rno','jockeyId','trainerId','Settling','Pos','Opening','Price','LSFinPos','LSMargin','LSSP','LSClass','LSBarrier','LSWeight','LSDist','Wght','Chg','Barr','Chg','Dist','Chg','Wght_Over_Limit','MktMoves','MarketRank']"
   ]
  },
  {
   "cell_type": "code",
   "execution_count": 3,
   "metadata": {},
   "outputs": [
    {
     "name": "stderr",
     "output_type": "stream",
     "text": [
      "C:\\Users\\LAPTOP WORLD\\AppData\\Local\\Temp\\ipykernel_30292\\2967867230.py:20: DtypeWarning: Columns (5,6,7,12,13,15,16,17,21,22,23,24,25,35,36,45) have mixed types. Specify dtype option on import or set low_memory=False.\n",
      "  df = pd.read_csv('PF2021-23-Cleaned1.csv')\n"
     ]
    },
    {
     "data": {
      "text/html": [
       "<div>\n",
       "<style scoped>\n",
       "    .dataframe tbody tr th:only-of-type {\n",
       "        vertical-align: middle;\n",
       "    }\n",
       "\n",
       "    .dataframe tbody tr th {\n",
       "        vertical-align: top;\n",
       "    }\n",
       "\n",
       "    .dataframe thead th {\n",
       "        text-align: right;\n",
       "    }\n",
       "</style>\n",
       "<table border=\"1\" class=\"dataframe\">\n",
       "  <thead>\n",
       "    <tr style=\"text-align: right;\">\n",
       "      <th></th>\n",
       "      <th>Raceid</th>\n",
       "      <th>Meetingid</th>\n",
       "      <th>Starters</th>\n",
       "      <th>Class</th>\n",
       "      <th>Distance</th>\n",
       "      <th>Agerestrictions</th>\n",
       "      <th>Sexrestrictions</th>\n",
       "      <th>Jockeyrestrictions</th>\n",
       "      <th>Trackcondition</th>\n",
       "      <th>Trackconditionnumber</th>\n",
       "      <th>...</th>\n",
       "      <th>Trainerid</th>\n",
       "      <th>Settling Pos</th>\n",
       "      <th>M800</th>\n",
       "      <th>M400</th>\n",
       "      <th>Opening Price</th>\n",
       "      <th>LSFinPos</th>\n",
       "      <th>LSMargin</th>\n",
       "      <th>LSSP</th>\n",
       "      <th>LSClass</th>\n",
       "      <th>MarketRank</th>\n",
       "    </tr>\n",
       "  </thead>\n",
       "  <tbody>\n",
       "    <tr>\n",
       "      <th>0</th>\n",
       "      <td>858602</td>\n",
       "      <td>175106</td>\n",
       "      <td>8.0</td>\n",
       "      <td>Maiden</td>\n",
       "      <td>1000</td>\n",
       "      <td>2yo+</td>\n",
       "      <td>NaN</td>\n",
       "      <td>Apprentices Can Claim</td>\n",
       "      <td>Good</td>\n",
       "      <td>4</td>\n",
       "      <td>...</td>\n",
       "      <td>2524.0</td>\n",
       "      <td>5.0</td>\n",
       "      <td>5.0</td>\n",
       "      <td>1.0</td>\n",
       "      <td>4.4</td>\n",
       "      <td>NaN</td>\n",
       "      <td>NaN</td>\n",
       "      <td>NaN</td>\n",
       "      <td>NaN</td>\n",
       "      <td>3</td>\n",
       "    </tr>\n",
       "    <tr>\n",
       "      <th>1</th>\n",
       "      <td>858602</td>\n",
       "      <td>175106</td>\n",
       "      <td>8.0</td>\n",
       "      <td>Maiden</td>\n",
       "      <td>1000</td>\n",
       "      <td>2yo+</td>\n",
       "      <td>NaN</td>\n",
       "      <td>Apprentices Can Claim</td>\n",
       "      <td>Good</td>\n",
       "      <td>4</td>\n",
       "      <td>...</td>\n",
       "      <td>27057.0</td>\n",
       "      <td>3.0</td>\n",
       "      <td>3.0</td>\n",
       "      <td>3.0</td>\n",
       "      <td>3.9</td>\n",
       "      <td>NaN</td>\n",
       "      <td>NaN</td>\n",
       "      <td>NaN</td>\n",
       "      <td>NaN</td>\n",
       "      <td>1</td>\n",
       "    </tr>\n",
       "    <tr>\n",
       "      <th>2</th>\n",
       "      <td>858602</td>\n",
       "      <td>175106</td>\n",
       "      <td>8.0</td>\n",
       "      <td>Maiden</td>\n",
       "      <td>1000</td>\n",
       "      <td>2yo+</td>\n",
       "      <td>NaN</td>\n",
       "      <td>Apprentices Can Claim</td>\n",
       "      <td>Good</td>\n",
       "      <td>4</td>\n",
       "      <td>...</td>\n",
       "      <td>15214.0</td>\n",
       "      <td>7.0</td>\n",
       "      <td>7.0</td>\n",
       "      <td>7.0</td>\n",
       "      <td>10.0</td>\n",
       "      <td>NaN</td>\n",
       "      <td>NaN</td>\n",
       "      <td>NaN</td>\n",
       "      <td>NaN</td>\n",
       "      <td>5</td>\n",
       "    </tr>\n",
       "    <tr>\n",
       "      <th>3</th>\n",
       "      <td>858602</td>\n",
       "      <td>175106</td>\n",
       "      <td>8.0</td>\n",
       "      <td>Maiden</td>\n",
       "      <td>1000</td>\n",
       "      <td>2yo+</td>\n",
       "      <td>NaN</td>\n",
       "      <td>Apprentices Can Claim</td>\n",
       "      <td>Good</td>\n",
       "      <td>4</td>\n",
       "      <td>...</td>\n",
       "      <td>19944.0</td>\n",
       "      <td>6.0</td>\n",
       "      <td>6.0</td>\n",
       "      <td>8.0</td>\n",
       "      <td>10.0</td>\n",
       "      <td>NaN</td>\n",
       "      <td>NaN</td>\n",
       "      <td>NaN</td>\n",
       "      <td>NaN</td>\n",
       "      <td>7</td>\n",
       "    </tr>\n",
       "    <tr>\n",
       "      <th>4</th>\n",
       "      <td>858602</td>\n",
       "      <td>175106</td>\n",
       "      <td>8.0</td>\n",
       "      <td>Maiden</td>\n",
       "      <td>1000</td>\n",
       "      <td>2yo+</td>\n",
       "      <td>NaN</td>\n",
       "      <td>Apprentices Can Claim</td>\n",
       "      <td>Good</td>\n",
       "      <td>4</td>\n",
       "      <td>...</td>\n",
       "      <td>24555.0</td>\n",
       "      <td>8.0</td>\n",
       "      <td>8.0</td>\n",
       "      <td>4.0</td>\n",
       "      <td>14.0</td>\n",
       "      <td>NaN</td>\n",
       "      <td>NaN</td>\n",
       "      <td>NaN</td>\n",
       "      <td>NaN</td>\n",
       "      <td>7</td>\n",
       "    </tr>\n",
       "    <tr>\n",
       "      <th>...</th>\n",
       "      <td>...</td>\n",
       "      <td>...</td>\n",
       "      <td>...</td>\n",
       "      <td>...</td>\n",
       "      <td>...</td>\n",
       "      <td>...</td>\n",
       "      <td>...</td>\n",
       "      <td>...</td>\n",
       "      <td>...</td>\n",
       "      <td>...</td>\n",
       "      <td>...</td>\n",
       "      <td>...</td>\n",
       "      <td>...</td>\n",
       "      <td>...</td>\n",
       "      <td>...</td>\n",
       "      <td>...</td>\n",
       "      <td>...</td>\n",
       "      <td>...</td>\n",
       "      <td>...</td>\n",
       "      <td>...</td>\n",
       "      <td>...</td>\n",
       "    </tr>\n",
       "    <tr>\n",
       "      <th>559228</th>\n",
       "      <td>959567</td>\n",
       "      <td>191485</td>\n",
       "      <td>NaN</td>\n",
       "      <td>Restricted 58</td>\n",
       "      <td>1600</td>\n",
       "      <td>NaN</td>\n",
       "      <td>NaN</td>\n",
       "      <td>NaN</td>\n",
       "      <td>Good</td>\n",
       "      <td>4</td>\n",
       "      <td>...</td>\n",
       "      <td>NaN</td>\n",
       "      <td>1.0</td>\n",
       "      <td>1.0</td>\n",
       "      <td>1.0</td>\n",
       "      <td>8.0</td>\n",
       "      <td>9.0</td>\n",
       "      <td>24.6</td>\n",
       "      <td>8.0</td>\n",
       "      <td>Benchmark 58</td>\n",
       "      <td>5</td>\n",
       "    </tr>\n",
       "    <tr>\n",
       "      <th>559229</th>\n",
       "      <td>959567</td>\n",
       "      <td>191485</td>\n",
       "      <td>NaN</td>\n",
       "      <td>Restricted 58</td>\n",
       "      <td>1600</td>\n",
       "      <td>NaN</td>\n",
       "      <td>NaN</td>\n",
       "      <td>NaN</td>\n",
       "      <td>Good</td>\n",
       "      <td>4</td>\n",
       "      <td>...</td>\n",
       "      <td>NaN</td>\n",
       "      <td>3.0</td>\n",
       "      <td>3.0</td>\n",
       "      <td>5.0</td>\n",
       "      <td>18.0</td>\n",
       "      <td>9.0</td>\n",
       "      <td>8.9</td>\n",
       "      <td>26.0</td>\n",
       "      <td>Restricted 58</td>\n",
       "      <td>8</td>\n",
       "    </tr>\n",
       "    <tr>\n",
       "      <th>559230</th>\n",
       "      <td>959567</td>\n",
       "      <td>191485</td>\n",
       "      <td>NaN</td>\n",
       "      <td>Restricted 58</td>\n",
       "      <td>1600</td>\n",
       "      <td>NaN</td>\n",
       "      <td>NaN</td>\n",
       "      <td>NaN</td>\n",
       "      <td>Good</td>\n",
       "      <td>4</td>\n",
       "      <td>...</td>\n",
       "      <td>NaN</td>\n",
       "      <td>7.0</td>\n",
       "      <td>7.0</td>\n",
       "      <td>6.0</td>\n",
       "      <td>7.5</td>\n",
       "      <td>2.0</td>\n",
       "      <td>2.3</td>\n",
       "      <td>9.0</td>\n",
       "      <td>Benchmark 52</td>\n",
       "      <td>6</td>\n",
       "    </tr>\n",
       "    <tr>\n",
       "      <th>559231</th>\n",
       "      <td>959567</td>\n",
       "      <td>191485</td>\n",
       "      <td>NaN</td>\n",
       "      <td>Restricted 58</td>\n",
       "      <td>1600</td>\n",
       "      <td>NaN</td>\n",
       "      <td>NaN</td>\n",
       "      <td>NaN</td>\n",
       "      <td>Good</td>\n",
       "      <td>4</td>\n",
       "      <td>...</td>\n",
       "      <td>NaN</td>\n",
       "      <td>9.0</td>\n",
       "      <td>9.0</td>\n",
       "      <td>9.0</td>\n",
       "      <td>9.5</td>\n",
       "      <td>2.0</td>\n",
       "      <td>1.5</td>\n",
       "      <td>12.0</td>\n",
       "      <td>Benchmark 54</td>\n",
       "      <td>4</td>\n",
       "    </tr>\n",
       "    <tr>\n",
       "      <th>559232</th>\n",
       "      <td>959567</td>\n",
       "      <td>191485</td>\n",
       "      <td>NaN</td>\n",
       "      <td>Restricted 58</td>\n",
       "      <td>1600</td>\n",
       "      <td>NaN</td>\n",
       "      <td>NaN</td>\n",
       "      <td>NaN</td>\n",
       "      <td>Good</td>\n",
       "      <td>4</td>\n",
       "      <td>...</td>\n",
       "      <td>NaN</td>\n",
       "      <td>11.0</td>\n",
       "      <td>11.0</td>\n",
       "      <td>11.0</td>\n",
       "      <td>18.0</td>\n",
       "      <td>9.0</td>\n",
       "      <td>5.1</td>\n",
       "      <td>21.0</td>\n",
       "      <td>Restricted 58</td>\n",
       "      <td>7</td>\n",
       "    </tr>\n",
       "  </tbody>\n",
       "</table>\n",
       "<p>559233 rows × 60 columns</p>\n",
       "</div>"
      ],
      "text/plain": [
       "        Raceid  Meetingid  Starters          Class  Distance Agerestrictions  \\\n",
       "0       858602     175106       8.0         Maiden      1000            2yo+   \n",
       "1       858602     175106       8.0         Maiden      1000            2yo+   \n",
       "2       858602     175106       8.0         Maiden      1000            2yo+   \n",
       "3       858602     175106       8.0         Maiden      1000            2yo+   \n",
       "4       858602     175106       8.0         Maiden      1000            2yo+   \n",
       "...        ...        ...       ...            ...       ...             ...   \n",
       "559228  959567     191485       NaN  Restricted 58      1600             NaN   \n",
       "559229  959567     191485       NaN  Restricted 58      1600             NaN   \n",
       "559230  959567     191485       NaN  Restricted 58      1600             NaN   \n",
       "559231  959567     191485       NaN  Restricted 58      1600             NaN   \n",
       "559232  959567     191485       NaN  Restricted 58      1600             NaN   \n",
       "\n",
       "       Sexrestrictions     Jockeyrestrictions Trackcondition  \\\n",
       "0                  NaN  Apprentices Can Claim           Good   \n",
       "1                  NaN  Apprentices Can Claim           Good   \n",
       "2                  NaN  Apprentices Can Claim           Good   \n",
       "3                  NaN  Apprentices Can Claim           Good   \n",
       "4                  NaN  Apprentices Can Claim           Good   \n",
       "...                ...                    ...            ...   \n",
       "559228             NaN                    NaN           Good   \n",
       "559229             NaN                    NaN           Good   \n",
       "559230             NaN                    NaN           Good   \n",
       "559231             NaN                    NaN           Good   \n",
       "559232             NaN                    NaN           Good   \n",
       "\n",
       "        Trackconditionnumber  ...  Trainerid  Settling Pos  M800  M400  \\\n",
       "0                          4  ...     2524.0           5.0   5.0   1.0   \n",
       "1                          4  ...    27057.0           3.0   3.0   3.0   \n",
       "2                          4  ...    15214.0           7.0   7.0   7.0   \n",
       "3                          4  ...    19944.0           6.0   6.0   8.0   \n",
       "4                          4  ...    24555.0           8.0   8.0   4.0   \n",
       "...                      ...  ...        ...           ...   ...   ...   \n",
       "559228                     4  ...        NaN           1.0   1.0   1.0   \n",
       "559229                     4  ...        NaN           3.0   3.0   5.0   \n",
       "559230                     4  ...        NaN           7.0   7.0   6.0   \n",
       "559231                     4  ...        NaN           9.0   9.0   9.0   \n",
       "559232                     4  ...        NaN          11.0  11.0  11.0   \n",
       "\n",
       "        Opening Price LSFinPos LSMargin  LSSP        LSClass MarketRank  \n",
       "0                 4.4      NaN      NaN   NaN            NaN          3  \n",
       "1                 3.9      NaN      NaN   NaN            NaN          1  \n",
       "2                10.0      NaN      NaN   NaN            NaN          5  \n",
       "3                10.0      NaN      NaN   NaN            NaN          7  \n",
       "4                14.0      NaN      NaN   NaN            NaN          7  \n",
       "...               ...      ...      ...   ...            ...        ...  \n",
       "559228            8.0      9.0     24.6   8.0   Benchmark 58          5  \n",
       "559229           18.0      9.0      8.9  26.0  Restricted 58          8  \n",
       "559230            7.5      2.0      2.3   9.0   Benchmark 52          6  \n",
       "559231            9.5      2.0      1.5  12.0   Benchmark 54          4  \n",
       "559232           18.0      9.0      5.1  21.0  Restricted 58          7  \n",
       "\n",
       "[559233 rows x 60 columns]"
      ]
     },
     "execution_count": 3,
     "metadata": {},
     "output_type": "execute_result"
    }
   ],
   "source": [
    "import os\n",
    "import pandas as pd\n",
    "\n",
    "# # Specify the directory where your CSV files are located\n",
    "# directory_path = \"./\"\n",
    "\n",
    "# # Initialize an empty list to store dataframes\n",
    "# dataframes = []\n",
    "\n",
    "# # Loop through all files in the directory\n",
    "# for filename in os.listdir(directory_path):\n",
    "#     if filename.endswith(\".csv\"):\n",
    "#         file_path = os.path.join(directory_path, filename)\n",
    "#         # Read the CSV file into a dataframe\n",
    "#         df = pd.read_csv(file_path)\n",
    "#         # Append the dataframe to the list\n",
    "#         dataframes.append(df)\n",
    "\n",
    "# df = pd.concat(dataframes)\n",
    "df = pd.read_csv('PF2021-23-Cleaned1.csv')\n",
    "df"
   ]
  },
  {
   "cell_type": "code",
   "execution_count": 4,
   "metadata": {},
   "outputs": [
    {
     "name": "stdout",
     "output_type": "stream",
     "text": [
      "<class 'pandas.core.frame.DataFrame'>\n",
      "RangeIndex: 559233 entries, 0 to 559232\n",
      "Data columns (total 60 columns):\n",
      " #   Column                Non-Null Count   Dtype  \n",
      "---  ------                --------------   -----  \n",
      " 0   Raceid                559233 non-null  int64  \n",
      " 1   Meetingid             559233 non-null  int64  \n",
      " 2   Starters              437139 non-null  float64\n",
      " 3   Class                 559233 non-null  object \n",
      " 4   Distance              559233 non-null  int64  \n",
      " 5   Agerestrictions       184143 non-null  object \n",
      " 6   Sexrestrictions       33124 non-null   object \n",
      " 7   Jockeyrestrictions    437109 non-null  object \n",
      " 8   Trackcondition        559233 non-null  object \n",
      " 9   Trackconditionnumber  559233 non-null  int64  \n",
      " 10  Racetime              437139 non-null  float64\n",
      " 11  Limitweight           437139 non-null  float64\n",
      " 12  Weighttype            437139 non-null  object \n",
      " 13  Sectional             559233 non-null  object \n",
      " 14  Sectionaldistance     559233 non-null  int64  \n",
      " 15  Jumps                 437139 non-null  object \n",
      " 16  Groupstatus           17481 non-null   object \n",
      " 17  Verifiedracetime      559233 non-null  object \n",
      " 18  Verifiedracel600Time  437139 non-null  float64\n",
      " 19  Track                 559233 non-null  object \n",
      " 20  Railposition          518180 non-null  object \n",
      " 21  Tabmeeting            437139 non-null  object \n",
      " 22  Meetingdate           437139 non-null  object \n",
      " 23  Isbarriertrial        437139 non-null  object \n",
      " 24  Hassectionals         437139 non-null  object \n",
      " 25  Trackabbrev           437139 non-null  object \n",
      " 26  Fieldid               437139 non-null  float64\n",
      " 27  Tabno                 559233 non-null  int64  \n",
      " 28  Position              559233 non-null  int64  \n",
      " 29  Margin                559233 non-null  float64\n",
      " 30  Horse                 559233 non-null  object \n",
      " 31  Trainer               559232 non-null  object \n",
      " 32  Jockey                559233 non-null  object \n",
      " 33  Weight                559233 non-null  float64\n",
      " 34  Barrier               559233 non-null  int64  \n",
      " 35  Inrun                 402716 non-null  object \n",
      " 36  Flucs                 437094 non-null  object \n",
      " 37  Pricesp               559233 non-null  float64\n",
      " 38  Pricetab              559233 non-null  float64\n",
      " 39  Stewards              216378 non-null  object \n",
      " 40  Rating                437139 non-null  float64\n",
      " 41  Pricebf               559233 non-null  float64\n",
      " 42  Horseid               559233 non-null  int64  \n",
      " 43  Pricetabvic           437139 non-null  float64\n",
      " 44  Gears                 84005 non-null   object \n",
      " 45  Sex                   437139 non-null  object \n",
      " 46  Age                   437139 non-null  float64\n",
      " 47  Rno                   559233 non-null  int64  \n",
      " 48  Neural                437139 non-null  float64\n",
      " 49  Jockeyid              559233 non-null  int64  \n",
      " 50  Trainerid             437139 non-null  float64\n",
      " 51  Settling Pos          512094 non-null  float64\n",
      " 52  M800                  466926 non-null  float64\n",
      " 53  M400                  511984 non-null  float64\n",
      " 54  Opening Price         559188 non-null  float64\n",
      " 55  LSFinPos              459209 non-null  float64\n",
      " 56  LSMargin              459209 non-null  float64\n",
      " 57  LSSP                  459209 non-null  float64\n",
      " 58  LSClass               459209 non-null  object \n",
      " 59  MarketRank            559233 non-null  int64  \n",
      "dtypes: float64(22), int64(12), object(26)\n",
      "memory usage: 256.0+ MB\n"
     ]
    }
   ],
   "source": [
    "df.info()"
   ]
  },
  {
   "cell_type": "code",
   "execution_count": 5,
   "metadata": {},
   "outputs": [
    {
     "name": "stdout",
     "output_type": "stream",
     "text": [
      "<class 'pandas.core.frame.DataFrame'>\n",
      "RangeIndex: 559233 entries, 0 to 559232\n",
      "Data columns (total 28 columns):\n",
      " #   Column           Non-Null Count   Dtype  \n",
      "---  ------           --------------   -----  \n",
      " 0   Meetingid        559233 non-null  int64  \n",
      " 1   Raceid           559233 non-null  int64  \n",
      " 2   Distance         559233 non-null  int64  \n",
      " 3   Horse            559233 non-null  object \n",
      " 4   Horseid          559233 non-null  int64  \n",
      " 5   Weight           559233 non-null  float64\n",
      " 6   Barrier          559233 non-null  int64  \n",
      " 7   Jockey           559233 non-null  object \n",
      " 8   Jockeyid         559233 non-null  int64  \n",
      " 9   Trainer          559232 non-null  object \n",
      " 10  Trackcondition   559233 non-null  object \n",
      " 11  Settling Pos     512094 non-null  float64\n",
      " 12  Neural           437139 non-null  float64\n",
      " 13  Agerestrictions  184143 non-null  object \n",
      " 14  Class            559233 non-null  object \n",
      " 15  Limitweight      437139 non-null  float64\n",
      " 16  Sexrestrictions  33124 non-null   object \n",
      " 17  Weighttype       437139 non-null  object \n",
      " 18  Age              437139 non-null  float64\n",
      " 19  Rno              559233 non-null  int64  \n",
      " 20  Sex              437139 non-null  object \n",
      " 21  Margin           559233 non-null  float64\n",
      " 22  LSFinPos         459209 non-null  float64\n",
      " 23  LSSP             459209 non-null  float64\n",
      " 24  Pricebf          559233 non-null  float64\n",
      " 25  MarketRank       559233 non-null  int64  \n",
      " 26  Starters         437139 non-null  float64\n",
      " 27  Position         559233 non-null  int64  \n",
      "dtypes: float64(10), int64(9), object(9)\n",
      "memory usage: 119.5+ MB\n"
     ]
    }
   ],
   "source": [
    "# df['Class Change'] = df.LSClass - df.Class\n",
    "tst_df = pd.read_csv('2023-11-11-TestFile.csv').rename(columns={\n",
    "    'Meeting': 'Meetingid',\n",
    "    'Race Number': 'Raceid',\n",
    "    'Race Cl': 'Class',\n",
    "    'age restrictions': 'Agerestrictions',\n",
    "    'sex restrictions': 'Sexrestrictions',\n",
    "    'Tab No': 'Tabno'\n",
    "}).drop(['Hist Run Style','Class Change', 'Tabno'], axis=1)\n",
    "df = df[tst_df.columns.to_list() + ['Position']]\n",
    "df.info()"
   ]
  },
  {
   "cell_type": "code",
   "execution_count": 6,
   "metadata": {},
   "outputs": [
    {
     "data": {
      "text/plain": [
       "Index(['Meetingid', 'Raceid', 'Distance', 'Horse', 'Horseid', 'Weight',\n",
       "       'Barrier', 'Jockey', 'Jockeyid', 'Trainer', 'Trackcondition',\n",
       "       'Settling Pos', 'Neural', 'Agerestrictions', 'Class', 'Limitweight',\n",
       "       'Sexrestrictions', 'Weighttype', 'Age', 'Rno', 'Sex', 'Margin',\n",
       "       'LSFinPos', 'LSSP', 'Pricebf', 'MarketRank', 'Starters', 'Position'],\n",
       "      dtype='object')"
      ]
     },
     "execution_count": 6,
     "metadata": {},
     "output_type": "execute_result"
    }
   ],
   "source": [
    "df.columns"
   ]
  },
  {
   "cell_type": "code",
   "execution_count": 7,
   "metadata": {},
   "outputs": [
    {
     "data": {
      "application/vnd.plotly.v1+json": {
       "config": {
        "plotlyServerURL": "https://plot.ly"
       },
       "data": [
        {
         "alignmentgroup": "True",
         "hovertemplate": "variable=0<br>index=%{x}<br>value=%{y}<extra></extra>",
         "legendgroup": "0",
         "marker": {
          "color": "#636efa",
          "pattern": {
           "shape": ""
          }
         },
         "name": "0",
         "offsetgroup": "0",
         "orientation": "v",
         "showlegend": true,
         "textposition": "auto",
         "type": "bar",
         "x": [
          "Horse",
          "Jockey",
          "Trainer",
          "Trackcondition",
          "Agerestrictions",
          "Class",
          "Sexrestrictions",
          "Weighttype",
          "Sex"
         ],
         "xaxis": "x",
         "y": [
          53291,
          1243,
          4155,
          8,
          11,
          133,
          6,
          8,
          6
         ],
         "yaxis": "y"
        }
       ],
       "layout": {
        "barmode": "relative",
        "legend": {
         "title": {
          "text": "variable"
         },
         "tracegroupgap": 0
        },
        "template": {
         "data": {
          "bar": [
           {
            "error_x": {
             "color": "#2a3f5f"
            },
            "error_y": {
             "color": "#2a3f5f"
            },
            "marker": {
             "line": {
              "color": "#E5ECF6",
              "width": 0.5
             },
             "pattern": {
              "fillmode": "overlay",
              "size": 10,
              "solidity": 0.2
             }
            },
            "type": "bar"
           }
          ],
          "barpolar": [
           {
            "marker": {
             "line": {
              "color": "#E5ECF6",
              "width": 0.5
             },
             "pattern": {
              "fillmode": "overlay",
              "size": 10,
              "solidity": 0.2
             }
            },
            "type": "barpolar"
           }
          ],
          "carpet": [
           {
            "aaxis": {
             "endlinecolor": "#2a3f5f",
             "gridcolor": "white",
             "linecolor": "white",
             "minorgridcolor": "white",
             "startlinecolor": "#2a3f5f"
            },
            "baxis": {
             "endlinecolor": "#2a3f5f",
             "gridcolor": "white",
             "linecolor": "white",
             "minorgridcolor": "white",
             "startlinecolor": "#2a3f5f"
            },
            "type": "carpet"
           }
          ],
          "choropleth": [
           {
            "colorbar": {
             "outlinewidth": 0,
             "ticks": ""
            },
            "type": "choropleth"
           }
          ],
          "contour": [
           {
            "colorbar": {
             "outlinewidth": 0,
             "ticks": ""
            },
            "colorscale": [
             [
              0,
              "#0d0887"
             ],
             [
              0.1111111111111111,
              "#46039f"
             ],
             [
              0.2222222222222222,
              "#7201a8"
             ],
             [
              0.3333333333333333,
              "#9c179e"
             ],
             [
              0.4444444444444444,
              "#bd3786"
             ],
             [
              0.5555555555555556,
              "#d8576b"
             ],
             [
              0.6666666666666666,
              "#ed7953"
             ],
             [
              0.7777777777777778,
              "#fb9f3a"
             ],
             [
              0.8888888888888888,
              "#fdca26"
             ],
             [
              1,
              "#f0f921"
             ]
            ],
            "type": "contour"
           }
          ],
          "contourcarpet": [
           {
            "colorbar": {
             "outlinewidth": 0,
             "ticks": ""
            },
            "type": "contourcarpet"
           }
          ],
          "heatmap": [
           {
            "colorbar": {
             "outlinewidth": 0,
             "ticks": ""
            },
            "colorscale": [
             [
              0,
              "#0d0887"
             ],
             [
              0.1111111111111111,
              "#46039f"
             ],
             [
              0.2222222222222222,
              "#7201a8"
             ],
             [
              0.3333333333333333,
              "#9c179e"
             ],
             [
              0.4444444444444444,
              "#bd3786"
             ],
             [
              0.5555555555555556,
              "#d8576b"
             ],
             [
              0.6666666666666666,
              "#ed7953"
             ],
             [
              0.7777777777777778,
              "#fb9f3a"
             ],
             [
              0.8888888888888888,
              "#fdca26"
             ],
             [
              1,
              "#f0f921"
             ]
            ],
            "type": "heatmap"
           }
          ],
          "heatmapgl": [
           {
            "colorbar": {
             "outlinewidth": 0,
             "ticks": ""
            },
            "colorscale": [
             [
              0,
              "#0d0887"
             ],
             [
              0.1111111111111111,
              "#46039f"
             ],
             [
              0.2222222222222222,
              "#7201a8"
             ],
             [
              0.3333333333333333,
              "#9c179e"
             ],
             [
              0.4444444444444444,
              "#bd3786"
             ],
             [
              0.5555555555555556,
              "#d8576b"
             ],
             [
              0.6666666666666666,
              "#ed7953"
             ],
             [
              0.7777777777777778,
              "#fb9f3a"
             ],
             [
              0.8888888888888888,
              "#fdca26"
             ],
             [
              1,
              "#f0f921"
             ]
            ],
            "type": "heatmapgl"
           }
          ],
          "histogram": [
           {
            "marker": {
             "pattern": {
              "fillmode": "overlay",
              "size": 10,
              "solidity": 0.2
             }
            },
            "type": "histogram"
           }
          ],
          "histogram2d": [
           {
            "colorbar": {
             "outlinewidth": 0,
             "ticks": ""
            },
            "colorscale": [
             [
              0,
              "#0d0887"
             ],
             [
              0.1111111111111111,
              "#46039f"
             ],
             [
              0.2222222222222222,
              "#7201a8"
             ],
             [
              0.3333333333333333,
              "#9c179e"
             ],
             [
              0.4444444444444444,
              "#bd3786"
             ],
             [
              0.5555555555555556,
              "#d8576b"
             ],
             [
              0.6666666666666666,
              "#ed7953"
             ],
             [
              0.7777777777777778,
              "#fb9f3a"
             ],
             [
              0.8888888888888888,
              "#fdca26"
             ],
             [
              1,
              "#f0f921"
             ]
            ],
            "type": "histogram2d"
           }
          ],
          "histogram2dcontour": [
           {
            "colorbar": {
             "outlinewidth": 0,
             "ticks": ""
            },
            "colorscale": [
             [
              0,
              "#0d0887"
             ],
             [
              0.1111111111111111,
              "#46039f"
             ],
             [
              0.2222222222222222,
              "#7201a8"
             ],
             [
              0.3333333333333333,
              "#9c179e"
             ],
             [
              0.4444444444444444,
              "#bd3786"
             ],
             [
              0.5555555555555556,
              "#d8576b"
             ],
             [
              0.6666666666666666,
              "#ed7953"
             ],
             [
              0.7777777777777778,
              "#fb9f3a"
             ],
             [
              0.8888888888888888,
              "#fdca26"
             ],
             [
              1,
              "#f0f921"
             ]
            ],
            "type": "histogram2dcontour"
           }
          ],
          "mesh3d": [
           {
            "colorbar": {
             "outlinewidth": 0,
             "ticks": ""
            },
            "type": "mesh3d"
           }
          ],
          "parcoords": [
           {
            "line": {
             "colorbar": {
              "outlinewidth": 0,
              "ticks": ""
             }
            },
            "type": "parcoords"
           }
          ],
          "pie": [
           {
            "automargin": true,
            "type": "pie"
           }
          ],
          "scatter": [
           {
            "fillpattern": {
             "fillmode": "overlay",
             "size": 10,
             "solidity": 0.2
            },
            "type": "scatter"
           }
          ],
          "scatter3d": [
           {
            "line": {
             "colorbar": {
              "outlinewidth": 0,
              "ticks": ""
             }
            },
            "marker": {
             "colorbar": {
              "outlinewidth": 0,
              "ticks": ""
             }
            },
            "type": "scatter3d"
           }
          ],
          "scattercarpet": [
           {
            "marker": {
             "colorbar": {
              "outlinewidth": 0,
              "ticks": ""
             }
            },
            "type": "scattercarpet"
           }
          ],
          "scattergeo": [
           {
            "marker": {
             "colorbar": {
              "outlinewidth": 0,
              "ticks": ""
             }
            },
            "type": "scattergeo"
           }
          ],
          "scattergl": [
           {
            "marker": {
             "colorbar": {
              "outlinewidth": 0,
              "ticks": ""
             }
            },
            "type": "scattergl"
           }
          ],
          "scattermapbox": [
           {
            "marker": {
             "colorbar": {
              "outlinewidth": 0,
              "ticks": ""
             }
            },
            "type": "scattermapbox"
           }
          ],
          "scatterpolar": [
           {
            "marker": {
             "colorbar": {
              "outlinewidth": 0,
              "ticks": ""
             }
            },
            "type": "scatterpolar"
           }
          ],
          "scatterpolargl": [
           {
            "marker": {
             "colorbar": {
              "outlinewidth": 0,
              "ticks": ""
             }
            },
            "type": "scatterpolargl"
           }
          ],
          "scatterternary": [
           {
            "marker": {
             "colorbar": {
              "outlinewidth": 0,
              "ticks": ""
             }
            },
            "type": "scatterternary"
           }
          ],
          "surface": [
           {
            "colorbar": {
             "outlinewidth": 0,
             "ticks": ""
            },
            "colorscale": [
             [
              0,
              "#0d0887"
             ],
             [
              0.1111111111111111,
              "#46039f"
             ],
             [
              0.2222222222222222,
              "#7201a8"
             ],
             [
              0.3333333333333333,
              "#9c179e"
             ],
             [
              0.4444444444444444,
              "#bd3786"
             ],
             [
              0.5555555555555556,
              "#d8576b"
             ],
             [
              0.6666666666666666,
              "#ed7953"
             ],
             [
              0.7777777777777778,
              "#fb9f3a"
             ],
             [
              0.8888888888888888,
              "#fdca26"
             ],
             [
              1,
              "#f0f921"
             ]
            ],
            "type": "surface"
           }
          ],
          "table": [
           {
            "cells": {
             "fill": {
              "color": "#EBF0F8"
             },
             "line": {
              "color": "white"
             }
            },
            "header": {
             "fill": {
              "color": "#C8D4E3"
             },
             "line": {
              "color": "white"
             }
            },
            "type": "table"
           }
          ]
         },
         "layout": {
          "annotationdefaults": {
           "arrowcolor": "#2a3f5f",
           "arrowhead": 0,
           "arrowwidth": 1
          },
          "autotypenumbers": "strict",
          "coloraxis": {
           "colorbar": {
            "outlinewidth": 0,
            "ticks": ""
           }
          },
          "colorscale": {
           "diverging": [
            [
             0,
             "#8e0152"
            ],
            [
             0.1,
             "#c51b7d"
            ],
            [
             0.2,
             "#de77ae"
            ],
            [
             0.3,
             "#f1b6da"
            ],
            [
             0.4,
             "#fde0ef"
            ],
            [
             0.5,
             "#f7f7f7"
            ],
            [
             0.6,
             "#e6f5d0"
            ],
            [
             0.7,
             "#b8e186"
            ],
            [
             0.8,
             "#7fbc41"
            ],
            [
             0.9,
             "#4d9221"
            ],
            [
             1,
             "#276419"
            ]
           ],
           "sequential": [
            [
             0,
             "#0d0887"
            ],
            [
             0.1111111111111111,
             "#46039f"
            ],
            [
             0.2222222222222222,
             "#7201a8"
            ],
            [
             0.3333333333333333,
             "#9c179e"
            ],
            [
             0.4444444444444444,
             "#bd3786"
            ],
            [
             0.5555555555555556,
             "#d8576b"
            ],
            [
             0.6666666666666666,
             "#ed7953"
            ],
            [
             0.7777777777777778,
             "#fb9f3a"
            ],
            [
             0.8888888888888888,
             "#fdca26"
            ],
            [
             1,
             "#f0f921"
            ]
           ],
           "sequentialminus": [
            [
             0,
             "#0d0887"
            ],
            [
             0.1111111111111111,
             "#46039f"
            ],
            [
             0.2222222222222222,
             "#7201a8"
            ],
            [
             0.3333333333333333,
             "#9c179e"
            ],
            [
             0.4444444444444444,
             "#bd3786"
            ],
            [
             0.5555555555555556,
             "#d8576b"
            ],
            [
             0.6666666666666666,
             "#ed7953"
            ],
            [
             0.7777777777777778,
             "#fb9f3a"
            ],
            [
             0.8888888888888888,
             "#fdca26"
            ],
            [
             1,
             "#f0f921"
            ]
           ]
          },
          "colorway": [
           "#636efa",
           "#EF553B",
           "#00cc96",
           "#ab63fa",
           "#FFA15A",
           "#19d3f3",
           "#FF6692",
           "#B6E880",
           "#FF97FF",
           "#FECB52"
          ],
          "font": {
           "color": "#2a3f5f"
          },
          "geo": {
           "bgcolor": "white",
           "lakecolor": "white",
           "landcolor": "#E5ECF6",
           "showlakes": true,
           "showland": true,
           "subunitcolor": "white"
          },
          "hoverlabel": {
           "align": "left"
          },
          "hovermode": "closest",
          "mapbox": {
           "style": "light"
          },
          "paper_bgcolor": "white",
          "plot_bgcolor": "#E5ECF6",
          "polar": {
           "angularaxis": {
            "gridcolor": "white",
            "linecolor": "white",
            "ticks": ""
           },
           "bgcolor": "#E5ECF6",
           "radialaxis": {
            "gridcolor": "white",
            "linecolor": "white",
            "ticks": ""
           }
          },
          "scene": {
           "xaxis": {
            "backgroundcolor": "#E5ECF6",
            "gridcolor": "white",
            "gridwidth": 2,
            "linecolor": "white",
            "showbackground": true,
            "ticks": "",
            "zerolinecolor": "white"
           },
           "yaxis": {
            "backgroundcolor": "#E5ECF6",
            "gridcolor": "white",
            "gridwidth": 2,
            "linecolor": "white",
            "showbackground": true,
            "ticks": "",
            "zerolinecolor": "white"
           },
           "zaxis": {
            "backgroundcolor": "#E5ECF6",
            "gridcolor": "white",
            "gridwidth": 2,
            "linecolor": "white",
            "showbackground": true,
            "ticks": "",
            "zerolinecolor": "white"
           }
          },
          "shapedefaults": {
           "line": {
            "color": "#2a3f5f"
           }
          },
          "ternary": {
           "aaxis": {
            "gridcolor": "white",
            "linecolor": "white",
            "ticks": ""
           },
           "baxis": {
            "gridcolor": "white",
            "linecolor": "white",
            "ticks": ""
           },
           "bgcolor": "#E5ECF6",
           "caxis": {
            "gridcolor": "white",
            "linecolor": "white",
            "ticks": ""
           }
          },
          "title": {
           "x": 0.05
          },
          "xaxis": {
           "automargin": true,
           "gridcolor": "white",
           "linecolor": "white",
           "ticks": "",
           "title": {
            "standoff": 15
           },
           "zerolinecolor": "white",
           "zerolinewidth": 2
          },
          "yaxis": {
           "automargin": true,
           "gridcolor": "white",
           "linecolor": "white",
           "ticks": "",
           "title": {
            "standoff": 15
           },
           "zerolinecolor": "white",
           "zerolinewidth": 2
          }
         }
        },
        "title": {
         "text": "Count of Unique values in each column"
        },
        "xaxis": {
         "anchor": "y",
         "domain": [
          0,
          1
         ],
         "title": {
          "text": "index"
         }
        },
        "yaxis": {
         "anchor": "x",
         "domain": [
          0,
          1
         ],
         "title": {
          "text": "value"
         }
        }
       }
      }
     },
     "metadata": {},
     "output_type": "display_data"
    }
   ],
   "source": [
    "import plotly.express as px\n",
    "\n",
    "px.bar(df[[col for col in df.columns if df[col].dtype == 'object']].nunique(), title='Count of Unique values in each column')"
   ]
  },
  {
   "cell_type": "code",
   "execution_count": 8,
   "metadata": {},
   "outputs": [
    {
     "name": "stderr",
     "output_type": "stream",
     "text": [
      "C:\\Users\\LAPTOP WORLD\\AppData\\Local\\Temp\\ipykernel_30292\\3497734815.py:3: SettingWithCopyWarning:\n",
      "\n",
      "\n",
      "A value is trying to be set on a copy of a slice from a DataFrame\n",
      "\n",
      "See the caveats in the documentation: https://pandas.pydata.org/pandas-docs/stable/user_guide/indexing.html#returning-a-view-versus-a-copy\n",
      "\n"
     ]
    }
   ],
   "source": [
    "cat_df = df[[col for col in df.columns if df[col].dtype == 'object']]\n",
    "bad_cats = cat_df.columns[cat_df.nunique() > 100]\n",
    "df.drop(bad_cats,axis=1, inplace=True)"
   ]
  },
  {
   "cell_type": "code",
   "execution_count": 9,
   "metadata": {},
   "outputs": [
    {
     "data": {
      "text/plain": [
       "Index(['Horse', 'Jockey', 'Trainer', 'Class'], dtype='object')"
      ]
     },
     "execution_count": 9,
     "metadata": {},
     "output_type": "execute_result"
    }
   ],
   "source": [
    "bad_cats"
   ]
  },
  {
   "cell_type": "code",
   "execution_count": 10,
   "metadata": {},
   "outputs": [
    {
     "data": {
      "application/vnd.plotly.v1+json": {
       "config": {
        "plotlyServerURL": "https://plot.ly"
       },
       "data": [
        {
         "alignmentgroup": "True",
         "hovertemplate": "variable=0<br>index=%{x}<br>value=%{y}<extra></extra>",
         "legendgroup": "0",
         "marker": {
          "color": "#636efa",
          "pattern": {
           "shape": ""
          }
         },
         "name": "0",
         "offsetgroup": "0",
         "orientation": "v",
         "showlegend": true,
         "textposition": "auto",
         "type": "bar",
         "x": [
          "Meetingid",
          "Raceid",
          "Distance",
          "Horseid",
          "Weight",
          "Barrier",
          "Jockeyid",
          "Trackcondition",
          "Settling Pos",
          "Neural",
          "Agerestrictions",
          "Limitweight",
          "Sexrestrictions",
          "Weighttype",
          "Age",
          "Rno",
          "Sex",
          "Margin",
          "LSFinPos",
          "LSSP",
          "Pricebf",
          "MarketRank",
          "Starters",
          "Position"
         ],
         "xaxis": "x",
         "y": [
          0,
          0,
          0,
          0,
          0,
          0,
          0,
          0,
          47139,
          122094,
          375090,
          122094,
          526109,
          122094,
          122094,
          0,
          122094,
          0,
          100024,
          100024,
          0,
          0,
          122094,
          0
         ],
         "yaxis": "y"
        }
       ],
       "layout": {
        "barmode": "relative",
        "legend": {
         "title": {
          "text": "variable"
         },
         "tracegroupgap": 0
        },
        "template": {
         "data": {
          "bar": [
           {
            "error_x": {
             "color": "#2a3f5f"
            },
            "error_y": {
             "color": "#2a3f5f"
            },
            "marker": {
             "line": {
              "color": "#E5ECF6",
              "width": 0.5
             },
             "pattern": {
              "fillmode": "overlay",
              "size": 10,
              "solidity": 0.2
             }
            },
            "type": "bar"
           }
          ],
          "barpolar": [
           {
            "marker": {
             "line": {
              "color": "#E5ECF6",
              "width": 0.5
             },
             "pattern": {
              "fillmode": "overlay",
              "size": 10,
              "solidity": 0.2
             }
            },
            "type": "barpolar"
           }
          ],
          "carpet": [
           {
            "aaxis": {
             "endlinecolor": "#2a3f5f",
             "gridcolor": "white",
             "linecolor": "white",
             "minorgridcolor": "white",
             "startlinecolor": "#2a3f5f"
            },
            "baxis": {
             "endlinecolor": "#2a3f5f",
             "gridcolor": "white",
             "linecolor": "white",
             "minorgridcolor": "white",
             "startlinecolor": "#2a3f5f"
            },
            "type": "carpet"
           }
          ],
          "choropleth": [
           {
            "colorbar": {
             "outlinewidth": 0,
             "ticks": ""
            },
            "type": "choropleth"
           }
          ],
          "contour": [
           {
            "colorbar": {
             "outlinewidth": 0,
             "ticks": ""
            },
            "colorscale": [
             [
              0,
              "#0d0887"
             ],
             [
              0.1111111111111111,
              "#46039f"
             ],
             [
              0.2222222222222222,
              "#7201a8"
             ],
             [
              0.3333333333333333,
              "#9c179e"
             ],
             [
              0.4444444444444444,
              "#bd3786"
             ],
             [
              0.5555555555555556,
              "#d8576b"
             ],
             [
              0.6666666666666666,
              "#ed7953"
             ],
             [
              0.7777777777777778,
              "#fb9f3a"
             ],
             [
              0.8888888888888888,
              "#fdca26"
             ],
             [
              1,
              "#f0f921"
             ]
            ],
            "type": "contour"
           }
          ],
          "contourcarpet": [
           {
            "colorbar": {
             "outlinewidth": 0,
             "ticks": ""
            },
            "type": "contourcarpet"
           }
          ],
          "heatmap": [
           {
            "colorbar": {
             "outlinewidth": 0,
             "ticks": ""
            },
            "colorscale": [
             [
              0,
              "#0d0887"
             ],
             [
              0.1111111111111111,
              "#46039f"
             ],
             [
              0.2222222222222222,
              "#7201a8"
             ],
             [
              0.3333333333333333,
              "#9c179e"
             ],
             [
              0.4444444444444444,
              "#bd3786"
             ],
             [
              0.5555555555555556,
              "#d8576b"
             ],
             [
              0.6666666666666666,
              "#ed7953"
             ],
             [
              0.7777777777777778,
              "#fb9f3a"
             ],
             [
              0.8888888888888888,
              "#fdca26"
             ],
             [
              1,
              "#f0f921"
             ]
            ],
            "type": "heatmap"
           }
          ],
          "heatmapgl": [
           {
            "colorbar": {
             "outlinewidth": 0,
             "ticks": ""
            },
            "colorscale": [
             [
              0,
              "#0d0887"
             ],
             [
              0.1111111111111111,
              "#46039f"
             ],
             [
              0.2222222222222222,
              "#7201a8"
             ],
             [
              0.3333333333333333,
              "#9c179e"
             ],
             [
              0.4444444444444444,
              "#bd3786"
             ],
             [
              0.5555555555555556,
              "#d8576b"
             ],
             [
              0.6666666666666666,
              "#ed7953"
             ],
             [
              0.7777777777777778,
              "#fb9f3a"
             ],
             [
              0.8888888888888888,
              "#fdca26"
             ],
             [
              1,
              "#f0f921"
             ]
            ],
            "type": "heatmapgl"
           }
          ],
          "histogram": [
           {
            "marker": {
             "pattern": {
              "fillmode": "overlay",
              "size": 10,
              "solidity": 0.2
             }
            },
            "type": "histogram"
           }
          ],
          "histogram2d": [
           {
            "colorbar": {
             "outlinewidth": 0,
             "ticks": ""
            },
            "colorscale": [
             [
              0,
              "#0d0887"
             ],
             [
              0.1111111111111111,
              "#46039f"
             ],
             [
              0.2222222222222222,
              "#7201a8"
             ],
             [
              0.3333333333333333,
              "#9c179e"
             ],
             [
              0.4444444444444444,
              "#bd3786"
             ],
             [
              0.5555555555555556,
              "#d8576b"
             ],
             [
              0.6666666666666666,
              "#ed7953"
             ],
             [
              0.7777777777777778,
              "#fb9f3a"
             ],
             [
              0.8888888888888888,
              "#fdca26"
             ],
             [
              1,
              "#f0f921"
             ]
            ],
            "type": "histogram2d"
           }
          ],
          "histogram2dcontour": [
           {
            "colorbar": {
             "outlinewidth": 0,
             "ticks": ""
            },
            "colorscale": [
             [
              0,
              "#0d0887"
             ],
             [
              0.1111111111111111,
              "#46039f"
             ],
             [
              0.2222222222222222,
              "#7201a8"
             ],
             [
              0.3333333333333333,
              "#9c179e"
             ],
             [
              0.4444444444444444,
              "#bd3786"
             ],
             [
              0.5555555555555556,
              "#d8576b"
             ],
             [
              0.6666666666666666,
              "#ed7953"
             ],
             [
              0.7777777777777778,
              "#fb9f3a"
             ],
             [
              0.8888888888888888,
              "#fdca26"
             ],
             [
              1,
              "#f0f921"
             ]
            ],
            "type": "histogram2dcontour"
           }
          ],
          "mesh3d": [
           {
            "colorbar": {
             "outlinewidth": 0,
             "ticks": ""
            },
            "type": "mesh3d"
           }
          ],
          "parcoords": [
           {
            "line": {
             "colorbar": {
              "outlinewidth": 0,
              "ticks": ""
             }
            },
            "type": "parcoords"
           }
          ],
          "pie": [
           {
            "automargin": true,
            "type": "pie"
           }
          ],
          "scatter": [
           {
            "fillpattern": {
             "fillmode": "overlay",
             "size": 10,
             "solidity": 0.2
            },
            "type": "scatter"
           }
          ],
          "scatter3d": [
           {
            "line": {
             "colorbar": {
              "outlinewidth": 0,
              "ticks": ""
             }
            },
            "marker": {
             "colorbar": {
              "outlinewidth": 0,
              "ticks": ""
             }
            },
            "type": "scatter3d"
           }
          ],
          "scattercarpet": [
           {
            "marker": {
             "colorbar": {
              "outlinewidth": 0,
              "ticks": ""
             }
            },
            "type": "scattercarpet"
           }
          ],
          "scattergeo": [
           {
            "marker": {
             "colorbar": {
              "outlinewidth": 0,
              "ticks": ""
             }
            },
            "type": "scattergeo"
           }
          ],
          "scattergl": [
           {
            "marker": {
             "colorbar": {
              "outlinewidth": 0,
              "ticks": ""
             }
            },
            "type": "scattergl"
           }
          ],
          "scattermapbox": [
           {
            "marker": {
             "colorbar": {
              "outlinewidth": 0,
              "ticks": ""
             }
            },
            "type": "scattermapbox"
           }
          ],
          "scatterpolar": [
           {
            "marker": {
             "colorbar": {
              "outlinewidth": 0,
              "ticks": ""
             }
            },
            "type": "scatterpolar"
           }
          ],
          "scatterpolargl": [
           {
            "marker": {
             "colorbar": {
              "outlinewidth": 0,
              "ticks": ""
             }
            },
            "type": "scatterpolargl"
           }
          ],
          "scatterternary": [
           {
            "marker": {
             "colorbar": {
              "outlinewidth": 0,
              "ticks": ""
             }
            },
            "type": "scatterternary"
           }
          ],
          "surface": [
           {
            "colorbar": {
             "outlinewidth": 0,
             "ticks": ""
            },
            "colorscale": [
             [
              0,
              "#0d0887"
             ],
             [
              0.1111111111111111,
              "#46039f"
             ],
             [
              0.2222222222222222,
              "#7201a8"
             ],
             [
              0.3333333333333333,
              "#9c179e"
             ],
             [
              0.4444444444444444,
              "#bd3786"
             ],
             [
              0.5555555555555556,
              "#d8576b"
             ],
             [
              0.6666666666666666,
              "#ed7953"
             ],
             [
              0.7777777777777778,
              "#fb9f3a"
             ],
             [
              0.8888888888888888,
              "#fdca26"
             ],
             [
              1,
              "#f0f921"
             ]
            ],
            "type": "surface"
           }
          ],
          "table": [
           {
            "cells": {
             "fill": {
              "color": "#EBF0F8"
             },
             "line": {
              "color": "white"
             }
            },
            "header": {
             "fill": {
              "color": "#C8D4E3"
             },
             "line": {
              "color": "white"
             }
            },
            "type": "table"
           }
          ]
         },
         "layout": {
          "annotationdefaults": {
           "arrowcolor": "#2a3f5f",
           "arrowhead": 0,
           "arrowwidth": 1
          },
          "autotypenumbers": "strict",
          "coloraxis": {
           "colorbar": {
            "outlinewidth": 0,
            "ticks": ""
           }
          },
          "colorscale": {
           "diverging": [
            [
             0,
             "#8e0152"
            ],
            [
             0.1,
             "#c51b7d"
            ],
            [
             0.2,
             "#de77ae"
            ],
            [
             0.3,
             "#f1b6da"
            ],
            [
             0.4,
             "#fde0ef"
            ],
            [
             0.5,
             "#f7f7f7"
            ],
            [
             0.6,
             "#e6f5d0"
            ],
            [
             0.7,
             "#b8e186"
            ],
            [
             0.8,
             "#7fbc41"
            ],
            [
             0.9,
             "#4d9221"
            ],
            [
             1,
             "#276419"
            ]
           ],
           "sequential": [
            [
             0,
             "#0d0887"
            ],
            [
             0.1111111111111111,
             "#46039f"
            ],
            [
             0.2222222222222222,
             "#7201a8"
            ],
            [
             0.3333333333333333,
             "#9c179e"
            ],
            [
             0.4444444444444444,
             "#bd3786"
            ],
            [
             0.5555555555555556,
             "#d8576b"
            ],
            [
             0.6666666666666666,
             "#ed7953"
            ],
            [
             0.7777777777777778,
             "#fb9f3a"
            ],
            [
             0.8888888888888888,
             "#fdca26"
            ],
            [
             1,
             "#f0f921"
            ]
           ],
           "sequentialminus": [
            [
             0,
             "#0d0887"
            ],
            [
             0.1111111111111111,
             "#46039f"
            ],
            [
             0.2222222222222222,
             "#7201a8"
            ],
            [
             0.3333333333333333,
             "#9c179e"
            ],
            [
             0.4444444444444444,
             "#bd3786"
            ],
            [
             0.5555555555555556,
             "#d8576b"
            ],
            [
             0.6666666666666666,
             "#ed7953"
            ],
            [
             0.7777777777777778,
             "#fb9f3a"
            ],
            [
             0.8888888888888888,
             "#fdca26"
            ],
            [
             1,
             "#f0f921"
            ]
           ]
          },
          "colorway": [
           "#636efa",
           "#EF553B",
           "#00cc96",
           "#ab63fa",
           "#FFA15A",
           "#19d3f3",
           "#FF6692",
           "#B6E880",
           "#FF97FF",
           "#FECB52"
          ],
          "font": {
           "color": "#2a3f5f"
          },
          "geo": {
           "bgcolor": "white",
           "lakecolor": "white",
           "landcolor": "#E5ECF6",
           "showlakes": true,
           "showland": true,
           "subunitcolor": "white"
          },
          "hoverlabel": {
           "align": "left"
          },
          "hovermode": "closest",
          "mapbox": {
           "style": "light"
          },
          "paper_bgcolor": "white",
          "plot_bgcolor": "#E5ECF6",
          "polar": {
           "angularaxis": {
            "gridcolor": "white",
            "linecolor": "white",
            "ticks": ""
           },
           "bgcolor": "#E5ECF6",
           "radialaxis": {
            "gridcolor": "white",
            "linecolor": "white",
            "ticks": ""
           }
          },
          "scene": {
           "xaxis": {
            "backgroundcolor": "#E5ECF6",
            "gridcolor": "white",
            "gridwidth": 2,
            "linecolor": "white",
            "showbackground": true,
            "ticks": "",
            "zerolinecolor": "white"
           },
           "yaxis": {
            "backgroundcolor": "#E5ECF6",
            "gridcolor": "white",
            "gridwidth": 2,
            "linecolor": "white",
            "showbackground": true,
            "ticks": "",
            "zerolinecolor": "white"
           },
           "zaxis": {
            "backgroundcolor": "#E5ECF6",
            "gridcolor": "white",
            "gridwidth": 2,
            "linecolor": "white",
            "showbackground": true,
            "ticks": "",
            "zerolinecolor": "white"
           }
          },
          "shapedefaults": {
           "line": {
            "color": "#2a3f5f"
           }
          },
          "ternary": {
           "aaxis": {
            "gridcolor": "white",
            "linecolor": "white",
            "ticks": ""
           },
           "baxis": {
            "gridcolor": "white",
            "linecolor": "white",
            "ticks": ""
           },
           "bgcolor": "#E5ECF6",
           "caxis": {
            "gridcolor": "white",
            "linecolor": "white",
            "ticks": ""
           }
          },
          "title": {
           "x": 0.05
          },
          "xaxis": {
           "automargin": true,
           "gridcolor": "white",
           "linecolor": "white",
           "ticks": "",
           "title": {
            "standoff": 15
           },
           "zerolinecolor": "white",
           "zerolinewidth": 2
          },
          "yaxis": {
           "automargin": true,
           "gridcolor": "white",
           "linecolor": "white",
           "ticks": "",
           "title": {
            "standoff": 15
           },
           "zerolinecolor": "white",
           "zerolinewidth": 2
          }
         }
        },
        "title": {
         "text": "Count of Missing values in each column"
        },
        "xaxis": {
         "anchor": "y",
         "domain": [
          0,
          1
         ],
         "title": {
          "text": "index"
         }
        },
        "yaxis": {
         "anchor": "x",
         "domain": [
          0,
          1
         ],
         "title": {
          "text": "value"
         }
        }
       }
      }
     },
     "metadata": {},
     "output_type": "display_data"
    }
   ],
   "source": [
    "import plotly.express as px\n",
    "\n",
    "px.bar(df.isna().sum(), title='Count of Missing values in each column')"
   ]
  },
  {
   "cell_type": "code",
   "execution_count": 11,
   "metadata": {},
   "outputs": [
    {
     "data": {
      "text/plain": [
       "Index(['Meetingid', 'Raceid', 'Distance', 'Horseid', 'Weight', 'Barrier',\n",
       "       'Jockeyid', 'Trackcondition', 'Settling Pos', 'Neural',\n",
       "       'Agerestrictions', 'Limitweight', 'Sexrestrictions', 'Weighttype',\n",
       "       'Age', 'Rno', 'Sex', 'Margin', 'LSFinPos', 'LSSP', 'Pricebf',\n",
       "       'MarketRank', 'Starters', 'Position'],\n",
       "      dtype='object')"
      ]
     },
     "execution_count": 11,
     "metadata": {},
     "output_type": "execute_result"
    }
   ],
   "source": [
    "df.columns"
   ]
  },
  {
   "cell_type": "code",
   "execution_count": 12,
   "metadata": {},
   "outputs": [],
   "source": [
    "# df.Starters.fillna(int(df.Starters.mean()),inplace=True)\n",
    "# df.Racetime.fillna(int(df.Racetime.mean()),inplace=True)\n",
    "# df.Rating.fillna(int(df.Rating.mean()),inplace=True)\n",
    "# df.Pricetabvic.fillna(int(df.Pricetabvic.mean()),inplace=True)\n",
    "# df.Age.fillna(int(df.Age.mean()),inplace=True)\n",
    "# df.Neural.fillna(int(df.Neural.mean()),inplace=True)\n",
    "# df.M800.fillna(int(df.M800.mean()),inplace=True)\n",
    "# df.M400.fillna(int(df.M400.mean()),inplace=True)\n",
    "# df.LSFinPos.fillna(int(df.LSFinPos.mean()),inplace=True)\n",
    "# df.LSMargin.fillna(int(df.LSMargin.mean()),inplace=True)\n",
    "# df.LSMargin.fillna(int(df.LSMargin.mean()),inplace=True)\n",
    "# df.LSSP.fillna(int(df.LSSP.mean()),inplace=True)\n",
    "# df['Settling Pos'].fillna(int(df['Settling Pos'].mean()),inplace=True)\n",
    "# df.Limitweight.fillna(int(df.Limitweight.mode()[0]),inplace=True)\n",
    "# df.Verifiedracel600Time.fillna(int(df.Verifiedracel600Time.mode()[0]),inplace=True)\n",
    "# df.Jockeyrestrictions.fillna(df.Jockeyrestrictions.mode()[0], inplace=True)\n",
    "# df.Weighttype.fillna(df.Weighttype.mode()[0], inplace=True)\n",
    "# df.Tabmeeting.fillna(df.Tabmeeting.mode()[0], inplace=True)\n",
    "# df.Hassectionals.fillna(df.Hassectionals.mode()[0], inplace=True)\n",
    "# df.Sex.fillna(df.Sex.mode()[0], inplace=True)\n",
    "df = df.drop(['Raceid', 'Meetingid', 'Agerestrictions','Sexrestrictions','Horseid','Pricebf', 'MarketRank'],axis=1)\n",
    "df.dropna(inplace=True)\n",
    "df.drop_duplicates(inplace=True)"
   ]
  },
  {
   "cell_type": "code",
   "execution_count": 13,
   "metadata": {},
   "outputs": [
    {
     "data": {
      "text/html": [
       "<div>\n",
       "<style scoped>\n",
       "    .dataframe tbody tr th:only-of-type {\n",
       "        vertical-align: middle;\n",
       "    }\n",
       "\n",
       "    .dataframe tbody tr th {\n",
       "        vertical-align: top;\n",
       "    }\n",
       "\n",
       "    .dataframe thead th {\n",
       "        text-align: right;\n",
       "    }\n",
       "</style>\n",
       "<table border=\"1\" class=\"dataframe\">\n",
       "  <thead>\n",
       "    <tr style=\"text-align: right;\">\n",
       "      <th></th>\n",
       "      <th>Distance</th>\n",
       "      <th>Weight</th>\n",
       "      <th>Barrier</th>\n",
       "      <th>Jockeyid</th>\n",
       "      <th>Trackcondition</th>\n",
       "      <th>Settling Pos</th>\n",
       "      <th>Neural</th>\n",
       "      <th>Limitweight</th>\n",
       "      <th>Weighttype</th>\n",
       "      <th>Age</th>\n",
       "      <th>Rno</th>\n",
       "      <th>Sex</th>\n",
       "      <th>Margin</th>\n",
       "      <th>LSFinPos</th>\n",
       "      <th>LSSP</th>\n",
       "      <th>Starters</th>\n",
       "      <th>Position</th>\n",
       "    </tr>\n",
       "  </thead>\n",
       "  <tbody>\n",
       "    <tr>\n",
       "      <th>2860</th>\n",
       "      <td>1500</td>\n",
       "      <td>60.0</td>\n",
       "      <td>7</td>\n",
       "      <td>14963</td>\n",
       "      <td>Heavy</td>\n",
       "      <td>7.0</td>\n",
       "      <td>0.00</td>\n",
       "      <td>55.0</td>\n",
       "      <td>Handicap</td>\n",
       "      <td>5.0</td>\n",
       "      <td>13</td>\n",
       "      <td>Gelding</td>\n",
       "      <td>2.2</td>\n",
       "      <td>6.0</td>\n",
       "      <td>11.0</td>\n",
       "      <td>10.0</td>\n",
       "      <td>5</td>\n",
       "    </tr>\n",
       "    <tr>\n",
       "      <th>3140</th>\n",
       "      <td>1100</td>\n",
       "      <td>56.0</td>\n",
       "      <td>8</td>\n",
       "      <td>14567</td>\n",
       "      <td>Soft</td>\n",
       "      <td>5.0</td>\n",
       "      <td>7.74</td>\n",
       "      <td>55.0</td>\n",
       "      <td>Handicap</td>\n",
       "      <td>8.0</td>\n",
       "      <td>37</td>\n",
       "      <td>Gelding</td>\n",
       "      <td>0.3</td>\n",
       "      <td>8.0</td>\n",
       "      <td>7.5</td>\n",
       "      <td>12.0</td>\n",
       "      <td>2</td>\n",
       "    </tr>\n",
       "    <tr>\n",
       "      <th>3146</th>\n",
       "      <td>1100</td>\n",
       "      <td>54.0</td>\n",
       "      <td>12</td>\n",
       "      <td>16218</td>\n",
       "      <td>Soft</td>\n",
       "      <td>11.0</td>\n",
       "      <td>47.57</td>\n",
       "      <td>55.0</td>\n",
       "      <td>Handicap</td>\n",
       "      <td>4.0</td>\n",
       "      <td>21</td>\n",
       "      <td>Mare</td>\n",
       "      <td>1.2</td>\n",
       "      <td>6.0</td>\n",
       "      <td>6.0</td>\n",
       "      <td>12.0</td>\n",
       "      <td>4</td>\n",
       "    </tr>\n",
       "    <tr>\n",
       "      <th>3257</th>\n",
       "      <td>1100</td>\n",
       "      <td>53.0</td>\n",
       "      <td>6</td>\n",
       "      <td>16327</td>\n",
       "      <td>Soft</td>\n",
       "      <td>11.0</td>\n",
       "      <td>21.67</td>\n",
       "      <td>0.0</td>\n",
       "      <td>Set Weight</td>\n",
       "      <td>6.0</td>\n",
       "      <td>50</td>\n",
       "      <td>Mare</td>\n",
       "      <td>8.1</td>\n",
       "      <td>3.0</td>\n",
       "      <td>3.6</td>\n",
       "      <td>12.0</td>\n",
       "      <td>11</td>\n",
       "    </tr>\n",
       "    <tr>\n",
       "      <th>3296</th>\n",
       "      <td>1800</td>\n",
       "      <td>55.0</td>\n",
       "      <td>5</td>\n",
       "      <td>7710</td>\n",
       "      <td>Soft</td>\n",
       "      <td>6.0</td>\n",
       "      <td>31.41</td>\n",
       "      <td>55.0</td>\n",
       "      <td>Handicap</td>\n",
       "      <td>5.0</td>\n",
       "      <td>19</td>\n",
       "      <td>Gelding</td>\n",
       "      <td>5.4</td>\n",
       "      <td>5.0</td>\n",
       "      <td>3.5</td>\n",
       "      <td>12.0</td>\n",
       "      <td>7</td>\n",
       "    </tr>\n",
       "    <tr>\n",
       "      <th>3329</th>\n",
       "      <td>1600</td>\n",
       "      <td>55.0</td>\n",
       "      <td>6</td>\n",
       "      <td>3123</td>\n",
       "      <td>Soft</td>\n",
       "      <td>9.0</td>\n",
       "      <td>12.12</td>\n",
       "      <td>55.0</td>\n",
       "      <td>Handicap</td>\n",
       "      <td>8.0</td>\n",
       "      <td>70</td>\n",
       "      <td>Gelding</td>\n",
       "      <td>1.0</td>\n",
       "      <td>4.0</td>\n",
       "      <td>6.0</td>\n",
       "      <td>12.0</td>\n",
       "      <td>3</td>\n",
       "    </tr>\n",
       "    <tr>\n",
       "      <th>3338</th>\n",
       "      <td>1600</td>\n",
       "      <td>55.0</td>\n",
       "      <td>10</td>\n",
       "      <td>7710</td>\n",
       "      <td>Soft</td>\n",
       "      <td>8.0</td>\n",
       "      <td>16.11</td>\n",
       "      <td>55.0</td>\n",
       "      <td>Handicap</td>\n",
       "      <td>5.0</td>\n",
       "      <td>31</td>\n",
       "      <td>Gelding</td>\n",
       "      <td>13.0</td>\n",
       "      <td>5.0</td>\n",
       "      <td>10.0</td>\n",
       "      <td>12.0</td>\n",
       "      <td>12</td>\n",
       "    </tr>\n",
       "    <tr>\n",
       "      <th>3361</th>\n",
       "      <td>1500</td>\n",
       "      <td>58.5</td>\n",
       "      <td>10</td>\n",
       "      <td>13046</td>\n",
       "      <td>Dead</td>\n",
       "      <td>2.0</td>\n",
       "      <td>13.60</td>\n",
       "      <td>0.0</td>\n",
       "      <td>Set Weight With Allowances</td>\n",
       "      <td>4.0</td>\n",
       "      <td>13</td>\n",
       "      <td>Gelding</td>\n",
       "      <td>20.5</td>\n",
       "      <td>6.0</td>\n",
       "      <td>40.0</td>\n",
       "      <td>12.0</td>\n",
       "      <td>11</td>\n",
       "    </tr>\n",
       "    <tr>\n",
       "      <th>3504</th>\n",
       "      <td>1600</td>\n",
       "      <td>59.5</td>\n",
       "      <td>2</td>\n",
       "      <td>13146</td>\n",
       "      <td>Heavy</td>\n",
       "      <td>5.0</td>\n",
       "      <td>22.28</td>\n",
       "      <td>54.0</td>\n",
       "      <td>Handicap</td>\n",
       "      <td>5.0</td>\n",
       "      <td>21</td>\n",
       "      <td>Gelding</td>\n",
       "      <td>9.9</td>\n",
       "      <td>4.0</td>\n",
       "      <td>31.0</td>\n",
       "      <td>8.0</td>\n",
       "      <td>6</td>\n",
       "    </tr>\n",
       "    <tr>\n",
       "      <th>3515</th>\n",
       "      <td>1000</td>\n",
       "      <td>54.0</td>\n",
       "      <td>1</td>\n",
       "      <td>10061</td>\n",
       "      <td>Heavy</td>\n",
       "      <td>3.0</td>\n",
       "      <td>5.17</td>\n",
       "      <td>54.0</td>\n",
       "      <td>Handicap</td>\n",
       "      <td>7.0</td>\n",
       "      <td>39</td>\n",
       "      <td>Gelding</td>\n",
       "      <td>7.9</td>\n",
       "      <td>5.0</td>\n",
       "      <td>8.5</td>\n",
       "      <td>6.0</td>\n",
       "      <td>6</td>\n",
       "    </tr>\n",
       "  </tbody>\n",
       "</table>\n",
       "</div>"
      ],
      "text/plain": [
       "      Distance  Weight  Barrier  Jockeyid Trackcondition  Settling Pos  \\\n",
       "2860      1500    60.0        7     14963          Heavy           7.0   \n",
       "3140      1100    56.0        8     14567           Soft           5.0   \n",
       "3146      1100    54.0       12     16218           Soft          11.0   \n",
       "3257      1100    53.0        6     16327           Soft          11.0   \n",
       "3296      1800    55.0        5      7710           Soft           6.0   \n",
       "3329      1600    55.0        6      3123           Soft           9.0   \n",
       "3338      1600    55.0       10      7710           Soft           8.0   \n",
       "3361      1500    58.5       10     13046           Dead           2.0   \n",
       "3504      1600    59.5        2     13146          Heavy           5.0   \n",
       "3515      1000    54.0        1     10061          Heavy           3.0   \n",
       "\n",
       "      Neural  Limitweight                  Weighttype  Age  Rno      Sex  \\\n",
       "2860    0.00         55.0                    Handicap  5.0   13  Gelding   \n",
       "3140    7.74         55.0                    Handicap  8.0   37  Gelding   \n",
       "3146   47.57         55.0                    Handicap  4.0   21     Mare   \n",
       "3257   21.67          0.0                  Set Weight  6.0   50     Mare   \n",
       "3296   31.41         55.0                    Handicap  5.0   19  Gelding   \n",
       "3329   12.12         55.0                    Handicap  8.0   70  Gelding   \n",
       "3338   16.11         55.0                    Handicap  5.0   31  Gelding   \n",
       "3361   13.60          0.0  Set Weight With Allowances  4.0   13  Gelding   \n",
       "3504   22.28         54.0                    Handicap  5.0   21  Gelding   \n",
       "3515    5.17         54.0                    Handicap  7.0   39  Gelding   \n",
       "\n",
       "      Margin  LSFinPos  LSSP  Starters  Position  \n",
       "2860     2.2       6.0  11.0      10.0         5  \n",
       "3140     0.3       8.0   7.5      12.0         2  \n",
       "3146     1.2       6.0   6.0      12.0         4  \n",
       "3257     8.1       3.0   3.6      12.0        11  \n",
       "3296     5.4       5.0   3.5      12.0         7  \n",
       "3329     1.0       4.0   6.0      12.0         3  \n",
       "3338    13.0       5.0  10.0      12.0        12  \n",
       "3361    20.5       6.0  40.0      12.0        11  \n",
       "3504     9.9       4.0  31.0       8.0         6  \n",
       "3515     7.9       5.0   8.5       6.0         6  "
      ]
     },
     "execution_count": 13,
     "metadata": {},
     "output_type": "execute_result"
    }
   ],
   "source": [
    "df.head(10)"
   ]
  },
  {
   "cell_type": "code",
   "execution_count": 14,
   "metadata": {},
   "outputs": [
    {
     "name": "stdout",
     "output_type": "stream",
     "text": [
      "<class 'pandas.core.frame.DataFrame'>\n",
      "Index: 335838 entries, 2860 to 437097\n",
      "Data columns (total 17 columns):\n",
      " #   Column          Non-Null Count   Dtype  \n",
      "---  ------          --------------   -----  \n",
      " 0   Distance        335838 non-null  int64  \n",
      " 1   Weight          335838 non-null  float64\n",
      " 2   Barrier         335838 non-null  int64  \n",
      " 3   Jockeyid        335838 non-null  int64  \n",
      " 4   Trackcondition  335838 non-null  object \n",
      " 5   Settling Pos    335838 non-null  float64\n",
      " 6   Neural          335838 non-null  float64\n",
      " 7   Limitweight     335838 non-null  float64\n",
      " 8   Weighttype      335838 non-null  object \n",
      " 9   Age             335838 non-null  float64\n",
      " 10  Rno             335838 non-null  int64  \n",
      " 11  Sex             335838 non-null  object \n",
      " 12  Margin          335838 non-null  float64\n",
      " 13  LSFinPos        335838 non-null  float64\n",
      " 14  LSSP            335838 non-null  float64\n",
      " 15  Starters        335838 non-null  float64\n",
      " 16  Position        335838 non-null  int64  \n",
      "dtypes: float64(9), int64(5), object(3)\n",
      "memory usage: 46.1+ MB\n"
     ]
    }
   ],
   "source": [
    "df.info()"
   ]
  },
  {
   "cell_type": "code",
   "execution_count": 15,
   "metadata": {},
   "outputs": [
    {
     "data": {
      "text/plain": [
       "Position\n",
       "2     34790\n",
       "1     34638\n",
       "3     34599\n",
       "4     34306\n",
       "5     33798\n",
       "6     32800\n",
       "7     30644\n",
       "8     27552\n",
       "9     23264\n",
       "10    18417\n",
       "11    13213\n",
       "12     9019\n",
       "13     4499\n",
       "14     2666\n",
       "15      707\n",
       "99      402\n",
       "16      373\n",
       "17       78\n",
       "18       50\n",
       "19       12\n",
       "20        8\n",
       "23        1\n",
       "22        1\n",
       "21        1\n",
       "Name: count, dtype: int64"
      ]
     },
     "execution_count": 15,
     "metadata": {},
     "output_type": "execute_result"
    }
   ],
   "source": [
    "df.Position.value_counts()"
   ]
  },
  {
   "cell_type": "code",
   "execution_count": 16,
   "metadata": {},
   "outputs": [
    {
     "data": {
      "application/vnd.plotly.v1+json": {
       "config": {
        "plotlyServerURL": "https://plot.ly"
       },
       "data": [
        {
         "alignmentgroup": "True",
         "hovertemplate": "variable=count<br>Position=%{x}<br>value=%{y}<extra></extra>",
         "legendgroup": "count",
         "marker": {
          "color": "#636efa",
          "pattern": {
           "shape": ""
          }
         },
         "name": "count",
         "offsetgroup": "count",
         "orientation": "v",
         "showlegend": true,
         "textposition": "auto",
         "type": "bar",
         "x": [
          2,
          1,
          3,
          4,
          5,
          6,
          7,
          8,
          9,
          10,
          11,
          12,
          13,
          14,
          15,
          99,
          16,
          17,
          18,
          19,
          20,
          23,
          22,
          21
         ],
         "xaxis": "x",
         "y": [
          34790,
          34638,
          34599,
          34306,
          33798,
          32800,
          30644,
          27552,
          23264,
          18417,
          13213,
          9019,
          4499,
          2666,
          707,
          402,
          373,
          78,
          50,
          12,
          8,
          1,
          1,
          1
         ],
         "yaxis": "y"
        }
       ],
       "layout": {
        "barmode": "relative",
        "legend": {
         "title": {
          "text": "variable"
         },
         "tracegroupgap": 0
        },
        "margin": {
         "t": 60
        },
        "template": {
         "data": {
          "bar": [
           {
            "error_x": {
             "color": "#2a3f5f"
            },
            "error_y": {
             "color": "#2a3f5f"
            },
            "marker": {
             "line": {
              "color": "#E5ECF6",
              "width": 0.5
             },
             "pattern": {
              "fillmode": "overlay",
              "size": 10,
              "solidity": 0.2
             }
            },
            "type": "bar"
           }
          ],
          "barpolar": [
           {
            "marker": {
             "line": {
              "color": "#E5ECF6",
              "width": 0.5
             },
             "pattern": {
              "fillmode": "overlay",
              "size": 10,
              "solidity": 0.2
             }
            },
            "type": "barpolar"
           }
          ],
          "carpet": [
           {
            "aaxis": {
             "endlinecolor": "#2a3f5f",
             "gridcolor": "white",
             "linecolor": "white",
             "minorgridcolor": "white",
             "startlinecolor": "#2a3f5f"
            },
            "baxis": {
             "endlinecolor": "#2a3f5f",
             "gridcolor": "white",
             "linecolor": "white",
             "minorgridcolor": "white",
             "startlinecolor": "#2a3f5f"
            },
            "type": "carpet"
           }
          ],
          "choropleth": [
           {
            "colorbar": {
             "outlinewidth": 0,
             "ticks": ""
            },
            "type": "choropleth"
           }
          ],
          "contour": [
           {
            "colorbar": {
             "outlinewidth": 0,
             "ticks": ""
            },
            "colorscale": [
             [
              0,
              "#0d0887"
             ],
             [
              0.1111111111111111,
              "#46039f"
             ],
             [
              0.2222222222222222,
              "#7201a8"
             ],
             [
              0.3333333333333333,
              "#9c179e"
             ],
             [
              0.4444444444444444,
              "#bd3786"
             ],
             [
              0.5555555555555556,
              "#d8576b"
             ],
             [
              0.6666666666666666,
              "#ed7953"
             ],
             [
              0.7777777777777778,
              "#fb9f3a"
             ],
             [
              0.8888888888888888,
              "#fdca26"
             ],
             [
              1,
              "#f0f921"
             ]
            ],
            "type": "contour"
           }
          ],
          "contourcarpet": [
           {
            "colorbar": {
             "outlinewidth": 0,
             "ticks": ""
            },
            "type": "contourcarpet"
           }
          ],
          "heatmap": [
           {
            "colorbar": {
             "outlinewidth": 0,
             "ticks": ""
            },
            "colorscale": [
             [
              0,
              "#0d0887"
             ],
             [
              0.1111111111111111,
              "#46039f"
             ],
             [
              0.2222222222222222,
              "#7201a8"
             ],
             [
              0.3333333333333333,
              "#9c179e"
             ],
             [
              0.4444444444444444,
              "#bd3786"
             ],
             [
              0.5555555555555556,
              "#d8576b"
             ],
             [
              0.6666666666666666,
              "#ed7953"
             ],
             [
              0.7777777777777778,
              "#fb9f3a"
             ],
             [
              0.8888888888888888,
              "#fdca26"
             ],
             [
              1,
              "#f0f921"
             ]
            ],
            "type": "heatmap"
           }
          ],
          "heatmapgl": [
           {
            "colorbar": {
             "outlinewidth": 0,
             "ticks": ""
            },
            "colorscale": [
             [
              0,
              "#0d0887"
             ],
             [
              0.1111111111111111,
              "#46039f"
             ],
             [
              0.2222222222222222,
              "#7201a8"
             ],
             [
              0.3333333333333333,
              "#9c179e"
             ],
             [
              0.4444444444444444,
              "#bd3786"
             ],
             [
              0.5555555555555556,
              "#d8576b"
             ],
             [
              0.6666666666666666,
              "#ed7953"
             ],
             [
              0.7777777777777778,
              "#fb9f3a"
             ],
             [
              0.8888888888888888,
              "#fdca26"
             ],
             [
              1,
              "#f0f921"
             ]
            ],
            "type": "heatmapgl"
           }
          ],
          "histogram": [
           {
            "marker": {
             "pattern": {
              "fillmode": "overlay",
              "size": 10,
              "solidity": 0.2
             }
            },
            "type": "histogram"
           }
          ],
          "histogram2d": [
           {
            "colorbar": {
             "outlinewidth": 0,
             "ticks": ""
            },
            "colorscale": [
             [
              0,
              "#0d0887"
             ],
             [
              0.1111111111111111,
              "#46039f"
             ],
             [
              0.2222222222222222,
              "#7201a8"
             ],
             [
              0.3333333333333333,
              "#9c179e"
             ],
             [
              0.4444444444444444,
              "#bd3786"
             ],
             [
              0.5555555555555556,
              "#d8576b"
             ],
             [
              0.6666666666666666,
              "#ed7953"
             ],
             [
              0.7777777777777778,
              "#fb9f3a"
             ],
             [
              0.8888888888888888,
              "#fdca26"
             ],
             [
              1,
              "#f0f921"
             ]
            ],
            "type": "histogram2d"
           }
          ],
          "histogram2dcontour": [
           {
            "colorbar": {
             "outlinewidth": 0,
             "ticks": ""
            },
            "colorscale": [
             [
              0,
              "#0d0887"
             ],
             [
              0.1111111111111111,
              "#46039f"
             ],
             [
              0.2222222222222222,
              "#7201a8"
             ],
             [
              0.3333333333333333,
              "#9c179e"
             ],
             [
              0.4444444444444444,
              "#bd3786"
             ],
             [
              0.5555555555555556,
              "#d8576b"
             ],
             [
              0.6666666666666666,
              "#ed7953"
             ],
             [
              0.7777777777777778,
              "#fb9f3a"
             ],
             [
              0.8888888888888888,
              "#fdca26"
             ],
             [
              1,
              "#f0f921"
             ]
            ],
            "type": "histogram2dcontour"
           }
          ],
          "mesh3d": [
           {
            "colorbar": {
             "outlinewidth": 0,
             "ticks": ""
            },
            "type": "mesh3d"
           }
          ],
          "parcoords": [
           {
            "line": {
             "colorbar": {
              "outlinewidth": 0,
              "ticks": ""
             }
            },
            "type": "parcoords"
           }
          ],
          "pie": [
           {
            "automargin": true,
            "type": "pie"
           }
          ],
          "scatter": [
           {
            "fillpattern": {
             "fillmode": "overlay",
             "size": 10,
             "solidity": 0.2
            },
            "type": "scatter"
           }
          ],
          "scatter3d": [
           {
            "line": {
             "colorbar": {
              "outlinewidth": 0,
              "ticks": ""
             }
            },
            "marker": {
             "colorbar": {
              "outlinewidth": 0,
              "ticks": ""
             }
            },
            "type": "scatter3d"
           }
          ],
          "scattercarpet": [
           {
            "marker": {
             "colorbar": {
              "outlinewidth": 0,
              "ticks": ""
             }
            },
            "type": "scattercarpet"
           }
          ],
          "scattergeo": [
           {
            "marker": {
             "colorbar": {
              "outlinewidth": 0,
              "ticks": ""
             }
            },
            "type": "scattergeo"
           }
          ],
          "scattergl": [
           {
            "marker": {
             "colorbar": {
              "outlinewidth": 0,
              "ticks": ""
             }
            },
            "type": "scattergl"
           }
          ],
          "scattermapbox": [
           {
            "marker": {
             "colorbar": {
              "outlinewidth": 0,
              "ticks": ""
             }
            },
            "type": "scattermapbox"
           }
          ],
          "scatterpolar": [
           {
            "marker": {
             "colorbar": {
              "outlinewidth": 0,
              "ticks": ""
             }
            },
            "type": "scatterpolar"
           }
          ],
          "scatterpolargl": [
           {
            "marker": {
             "colorbar": {
              "outlinewidth": 0,
              "ticks": ""
             }
            },
            "type": "scatterpolargl"
           }
          ],
          "scatterternary": [
           {
            "marker": {
             "colorbar": {
              "outlinewidth": 0,
              "ticks": ""
             }
            },
            "type": "scatterternary"
           }
          ],
          "surface": [
           {
            "colorbar": {
             "outlinewidth": 0,
             "ticks": ""
            },
            "colorscale": [
             [
              0,
              "#0d0887"
             ],
             [
              0.1111111111111111,
              "#46039f"
             ],
             [
              0.2222222222222222,
              "#7201a8"
             ],
             [
              0.3333333333333333,
              "#9c179e"
             ],
             [
              0.4444444444444444,
              "#bd3786"
             ],
             [
              0.5555555555555556,
              "#d8576b"
             ],
             [
              0.6666666666666666,
              "#ed7953"
             ],
             [
              0.7777777777777778,
              "#fb9f3a"
             ],
             [
              0.8888888888888888,
              "#fdca26"
             ],
             [
              1,
              "#f0f921"
             ]
            ],
            "type": "surface"
           }
          ],
          "table": [
           {
            "cells": {
             "fill": {
              "color": "#EBF0F8"
             },
             "line": {
              "color": "white"
             }
            },
            "header": {
             "fill": {
              "color": "#C8D4E3"
             },
             "line": {
              "color": "white"
             }
            },
            "type": "table"
           }
          ]
         },
         "layout": {
          "annotationdefaults": {
           "arrowcolor": "#2a3f5f",
           "arrowhead": 0,
           "arrowwidth": 1
          },
          "autotypenumbers": "strict",
          "coloraxis": {
           "colorbar": {
            "outlinewidth": 0,
            "ticks": ""
           }
          },
          "colorscale": {
           "diverging": [
            [
             0,
             "#8e0152"
            ],
            [
             0.1,
             "#c51b7d"
            ],
            [
             0.2,
             "#de77ae"
            ],
            [
             0.3,
             "#f1b6da"
            ],
            [
             0.4,
             "#fde0ef"
            ],
            [
             0.5,
             "#f7f7f7"
            ],
            [
             0.6,
             "#e6f5d0"
            ],
            [
             0.7,
             "#b8e186"
            ],
            [
             0.8,
             "#7fbc41"
            ],
            [
             0.9,
             "#4d9221"
            ],
            [
             1,
             "#276419"
            ]
           ],
           "sequential": [
            [
             0,
             "#0d0887"
            ],
            [
             0.1111111111111111,
             "#46039f"
            ],
            [
             0.2222222222222222,
             "#7201a8"
            ],
            [
             0.3333333333333333,
             "#9c179e"
            ],
            [
             0.4444444444444444,
             "#bd3786"
            ],
            [
             0.5555555555555556,
             "#d8576b"
            ],
            [
             0.6666666666666666,
             "#ed7953"
            ],
            [
             0.7777777777777778,
             "#fb9f3a"
            ],
            [
             0.8888888888888888,
             "#fdca26"
            ],
            [
             1,
             "#f0f921"
            ]
           ],
           "sequentialminus": [
            [
             0,
             "#0d0887"
            ],
            [
             0.1111111111111111,
             "#46039f"
            ],
            [
             0.2222222222222222,
             "#7201a8"
            ],
            [
             0.3333333333333333,
             "#9c179e"
            ],
            [
             0.4444444444444444,
             "#bd3786"
            ],
            [
             0.5555555555555556,
             "#d8576b"
            ],
            [
             0.6666666666666666,
             "#ed7953"
            ],
            [
             0.7777777777777778,
             "#fb9f3a"
            ],
            [
             0.8888888888888888,
             "#fdca26"
            ],
            [
             1,
             "#f0f921"
            ]
           ]
          },
          "colorway": [
           "#636efa",
           "#EF553B",
           "#00cc96",
           "#ab63fa",
           "#FFA15A",
           "#19d3f3",
           "#FF6692",
           "#B6E880",
           "#FF97FF",
           "#FECB52"
          ],
          "font": {
           "color": "#2a3f5f"
          },
          "geo": {
           "bgcolor": "white",
           "lakecolor": "white",
           "landcolor": "#E5ECF6",
           "showlakes": true,
           "showland": true,
           "subunitcolor": "white"
          },
          "hoverlabel": {
           "align": "left"
          },
          "hovermode": "closest",
          "mapbox": {
           "style": "light"
          },
          "paper_bgcolor": "white",
          "plot_bgcolor": "#E5ECF6",
          "polar": {
           "angularaxis": {
            "gridcolor": "white",
            "linecolor": "white",
            "ticks": ""
           },
           "bgcolor": "#E5ECF6",
           "radialaxis": {
            "gridcolor": "white",
            "linecolor": "white",
            "ticks": ""
           }
          },
          "scene": {
           "xaxis": {
            "backgroundcolor": "#E5ECF6",
            "gridcolor": "white",
            "gridwidth": 2,
            "linecolor": "white",
            "showbackground": true,
            "ticks": "",
            "zerolinecolor": "white"
           },
           "yaxis": {
            "backgroundcolor": "#E5ECF6",
            "gridcolor": "white",
            "gridwidth": 2,
            "linecolor": "white",
            "showbackground": true,
            "ticks": "",
            "zerolinecolor": "white"
           },
           "zaxis": {
            "backgroundcolor": "#E5ECF6",
            "gridcolor": "white",
            "gridwidth": 2,
            "linecolor": "white",
            "showbackground": true,
            "ticks": "",
            "zerolinecolor": "white"
           }
          },
          "shapedefaults": {
           "line": {
            "color": "#2a3f5f"
           }
          },
          "ternary": {
           "aaxis": {
            "gridcolor": "white",
            "linecolor": "white",
            "ticks": ""
           },
           "baxis": {
            "gridcolor": "white",
            "linecolor": "white",
            "ticks": ""
           },
           "bgcolor": "#E5ECF6",
           "caxis": {
            "gridcolor": "white",
            "linecolor": "white",
            "ticks": ""
           }
          },
          "title": {
           "x": 0.05
          },
          "xaxis": {
           "automargin": true,
           "gridcolor": "white",
           "linecolor": "white",
           "ticks": "",
           "title": {
            "standoff": 15
           },
           "zerolinecolor": "white",
           "zerolinewidth": 2
          },
          "yaxis": {
           "automargin": true,
           "gridcolor": "white",
           "linecolor": "white",
           "ticks": "",
           "title": {
            "standoff": 15
           },
           "zerolinecolor": "white",
           "zerolinewidth": 2
          }
         }
        },
        "xaxis": {
         "anchor": "y",
         "domain": [
          0,
          1
         ],
         "title": {
          "text": "Position"
         }
        },
        "yaxis": {
         "anchor": "x",
         "domain": [
          0,
          1
         ],
         "title": {
          "text": "value"
         }
        }
       }
      }
     },
     "metadata": {},
     "output_type": "display_data"
    }
   ],
   "source": [
    "px.bar(df.Position.value_counts())"
   ]
  },
  {
   "cell_type": "code",
   "execution_count": 17,
   "metadata": {},
   "outputs": [
    {
     "name": "stderr",
     "output_type": "stream",
     "text": [
      "C:\\Users\\LAPTOP WORLD\\AppData\\Local\\Temp\\ipykernel_30292\\4022098694.py:4: FutureWarning:\n",
      "\n",
      "ChainedAssignmentError: behaviour will change in pandas 3.0!\n",
      "You are setting values through chained assignment. Currently this works in certain cases, but when using Copy-on-Write (which will become the default behaviour in pandas 3.0) this will never work to update the original DataFrame or Series, because the intermediate object on which we are setting values will behave as a copy.\n",
      "A typical example is when you are setting values in a column of a DataFrame, like:\n",
      "\n",
      "df[\"col\"][row_indexer] = value\n",
      "\n",
      "Use `df.loc[row_indexer, \"col\"] = values` instead, to perform the assignment in a single step and ensure this keeps updating the original `df`.\n",
      "\n",
      "See the caveats in the documentation: https://pandas.pydata.org/pandas-docs/stable/user_guide/indexing.html#returning-a-view-versus-a-copy\n",
      "\n",
      "\n",
      "C:\\Users\\LAPTOP WORLD\\AppData\\Local\\Temp\\ipykernel_30292\\4022098694.py:5: FutureWarning:\n",
      "\n",
      "ChainedAssignmentError: behaviour will change in pandas 3.0!\n",
      "You are setting values through chained assignment. Currently this works in certain cases, but when using Copy-on-Write (which will become the default behaviour in pandas 3.0) this will never work to update the original DataFrame or Series, because the intermediate object on which we are setting values will behave as a copy.\n",
      "A typical example is when you are setting values in a column of a DataFrame, like:\n",
      "\n",
      "df[\"col\"][row_indexer] = value\n",
      "\n",
      "Use `df.loc[row_indexer, \"col\"] = values` instead, to perform the assignment in a single step and ensure this keeps updating the original `df`.\n",
      "\n",
      "See the caveats in the documentation: https://pandas.pydata.org/pandas-docs/stable/user_guide/indexing.html#returning-a-view-versus-a-copy\n",
      "\n",
      "\n",
      "C:\\Users\\LAPTOP WORLD\\AppData\\Local\\Temp\\ipykernel_30292\\4022098694.py:5: SettingWithCopyWarning:\n",
      "\n",
      "\n",
      "A value is trying to be set on a copy of a slice from a DataFrame\n",
      "\n",
      "See the caveats in the documentation: https://pandas.pydata.org/pandas-docs/stable/user_guide/indexing.html#returning-a-view-versus-a-copy\n",
      "\n"
     ]
    },
    {
     "data": {
      "application/vnd.plotly.v1+json": {
       "config": {
        "plotlyServerURL": "https://plot.ly"
       },
       "data": [
        {
         "alignmentgroup": "True",
         "hovertemplate": "variable=count<br>Position=%{x}<br>value=%{y}<extra></extra>",
         "legendgroup": "count",
         "marker": {
          "color": "#636efa",
          "pattern": {
           "shape": ""
          }
         },
         "name": "count",
         "offsetgroup": "count",
         "orientation": "v",
         "showlegend": true,
         "textposition": "auto",
         "type": "bar",
         "x": [
          0,
          1
         ],
         "xaxis": "x",
         "y": [
          231406,
          104027
         ],
         "yaxis": "y"
        }
       ],
       "layout": {
        "barmode": "relative",
        "legend": {
         "title": {
          "text": "variable"
         },
         "tracegroupgap": 0
        },
        "margin": {
         "t": 60
        },
        "template": {
         "data": {
          "bar": [
           {
            "error_x": {
             "color": "#2a3f5f"
            },
            "error_y": {
             "color": "#2a3f5f"
            },
            "marker": {
             "line": {
              "color": "#E5ECF6",
              "width": 0.5
             },
             "pattern": {
              "fillmode": "overlay",
              "size": 10,
              "solidity": 0.2
             }
            },
            "type": "bar"
           }
          ],
          "barpolar": [
           {
            "marker": {
             "line": {
              "color": "#E5ECF6",
              "width": 0.5
             },
             "pattern": {
              "fillmode": "overlay",
              "size": 10,
              "solidity": 0.2
             }
            },
            "type": "barpolar"
           }
          ],
          "carpet": [
           {
            "aaxis": {
             "endlinecolor": "#2a3f5f",
             "gridcolor": "white",
             "linecolor": "white",
             "minorgridcolor": "white",
             "startlinecolor": "#2a3f5f"
            },
            "baxis": {
             "endlinecolor": "#2a3f5f",
             "gridcolor": "white",
             "linecolor": "white",
             "minorgridcolor": "white",
             "startlinecolor": "#2a3f5f"
            },
            "type": "carpet"
           }
          ],
          "choropleth": [
           {
            "colorbar": {
             "outlinewidth": 0,
             "ticks": ""
            },
            "type": "choropleth"
           }
          ],
          "contour": [
           {
            "colorbar": {
             "outlinewidth": 0,
             "ticks": ""
            },
            "colorscale": [
             [
              0,
              "#0d0887"
             ],
             [
              0.1111111111111111,
              "#46039f"
             ],
             [
              0.2222222222222222,
              "#7201a8"
             ],
             [
              0.3333333333333333,
              "#9c179e"
             ],
             [
              0.4444444444444444,
              "#bd3786"
             ],
             [
              0.5555555555555556,
              "#d8576b"
             ],
             [
              0.6666666666666666,
              "#ed7953"
             ],
             [
              0.7777777777777778,
              "#fb9f3a"
             ],
             [
              0.8888888888888888,
              "#fdca26"
             ],
             [
              1,
              "#f0f921"
             ]
            ],
            "type": "contour"
           }
          ],
          "contourcarpet": [
           {
            "colorbar": {
             "outlinewidth": 0,
             "ticks": ""
            },
            "type": "contourcarpet"
           }
          ],
          "heatmap": [
           {
            "colorbar": {
             "outlinewidth": 0,
             "ticks": ""
            },
            "colorscale": [
             [
              0,
              "#0d0887"
             ],
             [
              0.1111111111111111,
              "#46039f"
             ],
             [
              0.2222222222222222,
              "#7201a8"
             ],
             [
              0.3333333333333333,
              "#9c179e"
             ],
             [
              0.4444444444444444,
              "#bd3786"
             ],
             [
              0.5555555555555556,
              "#d8576b"
             ],
             [
              0.6666666666666666,
              "#ed7953"
             ],
             [
              0.7777777777777778,
              "#fb9f3a"
             ],
             [
              0.8888888888888888,
              "#fdca26"
             ],
             [
              1,
              "#f0f921"
             ]
            ],
            "type": "heatmap"
           }
          ],
          "heatmapgl": [
           {
            "colorbar": {
             "outlinewidth": 0,
             "ticks": ""
            },
            "colorscale": [
             [
              0,
              "#0d0887"
             ],
             [
              0.1111111111111111,
              "#46039f"
             ],
             [
              0.2222222222222222,
              "#7201a8"
             ],
             [
              0.3333333333333333,
              "#9c179e"
             ],
             [
              0.4444444444444444,
              "#bd3786"
             ],
             [
              0.5555555555555556,
              "#d8576b"
             ],
             [
              0.6666666666666666,
              "#ed7953"
             ],
             [
              0.7777777777777778,
              "#fb9f3a"
             ],
             [
              0.8888888888888888,
              "#fdca26"
             ],
             [
              1,
              "#f0f921"
             ]
            ],
            "type": "heatmapgl"
           }
          ],
          "histogram": [
           {
            "marker": {
             "pattern": {
              "fillmode": "overlay",
              "size": 10,
              "solidity": 0.2
             }
            },
            "type": "histogram"
           }
          ],
          "histogram2d": [
           {
            "colorbar": {
             "outlinewidth": 0,
             "ticks": ""
            },
            "colorscale": [
             [
              0,
              "#0d0887"
             ],
             [
              0.1111111111111111,
              "#46039f"
             ],
             [
              0.2222222222222222,
              "#7201a8"
             ],
             [
              0.3333333333333333,
              "#9c179e"
             ],
             [
              0.4444444444444444,
              "#bd3786"
             ],
             [
              0.5555555555555556,
              "#d8576b"
             ],
             [
              0.6666666666666666,
              "#ed7953"
             ],
             [
              0.7777777777777778,
              "#fb9f3a"
             ],
             [
              0.8888888888888888,
              "#fdca26"
             ],
             [
              1,
              "#f0f921"
             ]
            ],
            "type": "histogram2d"
           }
          ],
          "histogram2dcontour": [
           {
            "colorbar": {
             "outlinewidth": 0,
             "ticks": ""
            },
            "colorscale": [
             [
              0,
              "#0d0887"
             ],
             [
              0.1111111111111111,
              "#46039f"
             ],
             [
              0.2222222222222222,
              "#7201a8"
             ],
             [
              0.3333333333333333,
              "#9c179e"
             ],
             [
              0.4444444444444444,
              "#bd3786"
             ],
             [
              0.5555555555555556,
              "#d8576b"
             ],
             [
              0.6666666666666666,
              "#ed7953"
             ],
             [
              0.7777777777777778,
              "#fb9f3a"
             ],
             [
              0.8888888888888888,
              "#fdca26"
             ],
             [
              1,
              "#f0f921"
             ]
            ],
            "type": "histogram2dcontour"
           }
          ],
          "mesh3d": [
           {
            "colorbar": {
             "outlinewidth": 0,
             "ticks": ""
            },
            "type": "mesh3d"
           }
          ],
          "parcoords": [
           {
            "line": {
             "colorbar": {
              "outlinewidth": 0,
              "ticks": ""
             }
            },
            "type": "parcoords"
           }
          ],
          "pie": [
           {
            "automargin": true,
            "type": "pie"
           }
          ],
          "scatter": [
           {
            "fillpattern": {
             "fillmode": "overlay",
             "size": 10,
             "solidity": 0.2
            },
            "type": "scatter"
           }
          ],
          "scatter3d": [
           {
            "line": {
             "colorbar": {
              "outlinewidth": 0,
              "ticks": ""
             }
            },
            "marker": {
             "colorbar": {
              "outlinewidth": 0,
              "ticks": ""
             }
            },
            "type": "scatter3d"
           }
          ],
          "scattercarpet": [
           {
            "marker": {
             "colorbar": {
              "outlinewidth": 0,
              "ticks": ""
             }
            },
            "type": "scattercarpet"
           }
          ],
          "scattergeo": [
           {
            "marker": {
             "colorbar": {
              "outlinewidth": 0,
              "ticks": ""
             }
            },
            "type": "scattergeo"
           }
          ],
          "scattergl": [
           {
            "marker": {
             "colorbar": {
              "outlinewidth": 0,
              "ticks": ""
             }
            },
            "type": "scattergl"
           }
          ],
          "scattermapbox": [
           {
            "marker": {
             "colorbar": {
              "outlinewidth": 0,
              "ticks": ""
             }
            },
            "type": "scattermapbox"
           }
          ],
          "scatterpolar": [
           {
            "marker": {
             "colorbar": {
              "outlinewidth": 0,
              "ticks": ""
             }
            },
            "type": "scatterpolar"
           }
          ],
          "scatterpolargl": [
           {
            "marker": {
             "colorbar": {
              "outlinewidth": 0,
              "ticks": ""
             }
            },
            "type": "scatterpolargl"
           }
          ],
          "scatterternary": [
           {
            "marker": {
             "colorbar": {
              "outlinewidth": 0,
              "ticks": ""
             }
            },
            "type": "scatterternary"
           }
          ],
          "surface": [
           {
            "colorbar": {
             "outlinewidth": 0,
             "ticks": ""
            },
            "colorscale": [
             [
              0,
              "#0d0887"
             ],
             [
              0.1111111111111111,
              "#46039f"
             ],
             [
              0.2222222222222222,
              "#7201a8"
             ],
             [
              0.3333333333333333,
              "#9c179e"
             ],
             [
              0.4444444444444444,
              "#bd3786"
             ],
             [
              0.5555555555555556,
              "#d8576b"
             ],
             [
              0.6666666666666666,
              "#ed7953"
             ],
             [
              0.7777777777777778,
              "#fb9f3a"
             ],
             [
              0.8888888888888888,
              "#fdca26"
             ],
             [
              1,
              "#f0f921"
             ]
            ],
            "type": "surface"
           }
          ],
          "table": [
           {
            "cells": {
             "fill": {
              "color": "#EBF0F8"
             },
             "line": {
              "color": "white"
             }
            },
            "header": {
             "fill": {
              "color": "#C8D4E3"
             },
             "line": {
              "color": "white"
             }
            },
            "type": "table"
           }
          ]
         },
         "layout": {
          "annotationdefaults": {
           "arrowcolor": "#2a3f5f",
           "arrowhead": 0,
           "arrowwidth": 1
          },
          "autotypenumbers": "strict",
          "coloraxis": {
           "colorbar": {
            "outlinewidth": 0,
            "ticks": ""
           }
          },
          "colorscale": {
           "diverging": [
            [
             0,
             "#8e0152"
            ],
            [
             0.1,
             "#c51b7d"
            ],
            [
             0.2,
             "#de77ae"
            ],
            [
             0.3,
             "#f1b6da"
            ],
            [
             0.4,
             "#fde0ef"
            ],
            [
             0.5,
             "#f7f7f7"
            ],
            [
             0.6,
             "#e6f5d0"
            ],
            [
             0.7,
             "#b8e186"
            ],
            [
             0.8,
             "#7fbc41"
            ],
            [
             0.9,
             "#4d9221"
            ],
            [
             1,
             "#276419"
            ]
           ],
           "sequential": [
            [
             0,
             "#0d0887"
            ],
            [
             0.1111111111111111,
             "#46039f"
            ],
            [
             0.2222222222222222,
             "#7201a8"
            ],
            [
             0.3333333333333333,
             "#9c179e"
            ],
            [
             0.4444444444444444,
             "#bd3786"
            ],
            [
             0.5555555555555556,
             "#d8576b"
            ],
            [
             0.6666666666666666,
             "#ed7953"
            ],
            [
             0.7777777777777778,
             "#fb9f3a"
            ],
            [
             0.8888888888888888,
             "#fdca26"
            ],
            [
             1,
             "#f0f921"
            ]
           ],
           "sequentialminus": [
            [
             0,
             "#0d0887"
            ],
            [
             0.1111111111111111,
             "#46039f"
            ],
            [
             0.2222222222222222,
             "#7201a8"
            ],
            [
             0.3333333333333333,
             "#9c179e"
            ],
            [
             0.4444444444444444,
             "#bd3786"
            ],
            [
             0.5555555555555556,
             "#d8576b"
            ],
            [
             0.6666666666666666,
             "#ed7953"
            ],
            [
             0.7777777777777778,
             "#fb9f3a"
            ],
            [
             0.8888888888888888,
             "#fdca26"
            ],
            [
             1,
             "#f0f921"
            ]
           ]
          },
          "colorway": [
           "#636efa",
           "#EF553B",
           "#00cc96",
           "#ab63fa",
           "#FFA15A",
           "#19d3f3",
           "#FF6692",
           "#B6E880",
           "#FF97FF",
           "#FECB52"
          ],
          "font": {
           "color": "#2a3f5f"
          },
          "geo": {
           "bgcolor": "white",
           "lakecolor": "white",
           "landcolor": "#E5ECF6",
           "showlakes": true,
           "showland": true,
           "subunitcolor": "white"
          },
          "hoverlabel": {
           "align": "left"
          },
          "hovermode": "closest",
          "mapbox": {
           "style": "light"
          },
          "paper_bgcolor": "white",
          "plot_bgcolor": "#E5ECF6",
          "polar": {
           "angularaxis": {
            "gridcolor": "white",
            "linecolor": "white",
            "ticks": ""
           },
           "bgcolor": "#E5ECF6",
           "radialaxis": {
            "gridcolor": "white",
            "linecolor": "white",
            "ticks": ""
           }
          },
          "scene": {
           "xaxis": {
            "backgroundcolor": "#E5ECF6",
            "gridcolor": "white",
            "gridwidth": 2,
            "linecolor": "white",
            "showbackground": true,
            "ticks": "",
            "zerolinecolor": "white"
           },
           "yaxis": {
            "backgroundcolor": "#E5ECF6",
            "gridcolor": "white",
            "gridwidth": 2,
            "linecolor": "white",
            "showbackground": true,
            "ticks": "",
            "zerolinecolor": "white"
           },
           "zaxis": {
            "backgroundcolor": "#E5ECF6",
            "gridcolor": "white",
            "gridwidth": 2,
            "linecolor": "white",
            "showbackground": true,
            "ticks": "",
            "zerolinecolor": "white"
           }
          },
          "shapedefaults": {
           "line": {
            "color": "#2a3f5f"
           }
          },
          "ternary": {
           "aaxis": {
            "gridcolor": "white",
            "linecolor": "white",
            "ticks": ""
           },
           "baxis": {
            "gridcolor": "white",
            "linecolor": "white",
            "ticks": ""
           },
           "bgcolor": "#E5ECF6",
           "caxis": {
            "gridcolor": "white",
            "linecolor": "white",
            "ticks": ""
           }
          },
          "title": {
           "x": 0.05
          },
          "xaxis": {
           "automargin": true,
           "gridcolor": "white",
           "linecolor": "white",
           "ticks": "",
           "title": {
            "standoff": 15
           },
           "zerolinecolor": "white",
           "zerolinewidth": 2
          },
          "yaxis": {
           "automargin": true,
           "gridcolor": "white",
           "linecolor": "white",
           "ticks": "",
           "title": {
            "standoff": 15
           },
           "zerolinecolor": "white",
           "zerolinewidth": 2
          }
         }
        },
        "xaxis": {
         "anchor": "y",
         "domain": [
          0,
          1
         ],
         "title": {
          "text": "Position"
         }
        },
        "yaxis": {
         "anchor": "x",
         "domain": [
          0,
          1
         ],
         "title": {
          "text": "value"
         }
        }
       }
      }
     },
     "metadata": {},
     "output_type": "display_data"
    }
   ],
   "source": [
    "# df = df[df.Position <= 20]\n",
    "# df['Position'].loc[df.Position != 1] = 0\n",
    "df = df[df.Position <= 20]\n",
    "df['Position'].loc[df.Position <= 3] = 1\n",
    "df['Position'].loc[df.Position > 3] = 0\n",
    "px.bar(df.Position.value_counts())"
   ]
  },
  {
   "cell_type": "code",
   "execution_count": 18,
   "metadata": {},
   "outputs": [
    {
     "data": {
      "application/vnd.plotly.v1+json": {
       "config": {
        "plotlyServerURL": "https://plot.ly"
       },
       "data": [
        {
         "alignmentgroup": "True",
         "hovertemplate": "variable=0<br>index=%{x}<br>value=%{y}<extra></extra>",
         "legendgroup": "0",
         "marker": {
          "color": "#636efa",
          "pattern": {
           "shape": ""
          }
         },
         "name": "0",
         "offsetgroup": "0",
         "orientation": "v",
         "showlegend": true,
         "textposition": "auto",
         "type": "bar",
         "x": [
          "Trackcondition",
          "Weighttype",
          "Sex"
         ],
         "xaxis": "x",
         "y": [
          8,
          7,
          6
         ],
         "yaxis": "y"
        }
       ],
       "layout": {
        "barmode": "relative",
        "legend": {
         "title": {
          "text": "variable"
         },
         "tracegroupgap": 0
        },
        "template": {
         "data": {
          "bar": [
           {
            "error_x": {
             "color": "#2a3f5f"
            },
            "error_y": {
             "color": "#2a3f5f"
            },
            "marker": {
             "line": {
              "color": "#E5ECF6",
              "width": 0.5
             },
             "pattern": {
              "fillmode": "overlay",
              "size": 10,
              "solidity": 0.2
             }
            },
            "type": "bar"
           }
          ],
          "barpolar": [
           {
            "marker": {
             "line": {
              "color": "#E5ECF6",
              "width": 0.5
             },
             "pattern": {
              "fillmode": "overlay",
              "size": 10,
              "solidity": 0.2
             }
            },
            "type": "barpolar"
           }
          ],
          "carpet": [
           {
            "aaxis": {
             "endlinecolor": "#2a3f5f",
             "gridcolor": "white",
             "linecolor": "white",
             "minorgridcolor": "white",
             "startlinecolor": "#2a3f5f"
            },
            "baxis": {
             "endlinecolor": "#2a3f5f",
             "gridcolor": "white",
             "linecolor": "white",
             "minorgridcolor": "white",
             "startlinecolor": "#2a3f5f"
            },
            "type": "carpet"
           }
          ],
          "choropleth": [
           {
            "colorbar": {
             "outlinewidth": 0,
             "ticks": ""
            },
            "type": "choropleth"
           }
          ],
          "contour": [
           {
            "colorbar": {
             "outlinewidth": 0,
             "ticks": ""
            },
            "colorscale": [
             [
              0,
              "#0d0887"
             ],
             [
              0.1111111111111111,
              "#46039f"
             ],
             [
              0.2222222222222222,
              "#7201a8"
             ],
             [
              0.3333333333333333,
              "#9c179e"
             ],
             [
              0.4444444444444444,
              "#bd3786"
             ],
             [
              0.5555555555555556,
              "#d8576b"
             ],
             [
              0.6666666666666666,
              "#ed7953"
             ],
             [
              0.7777777777777778,
              "#fb9f3a"
             ],
             [
              0.8888888888888888,
              "#fdca26"
             ],
             [
              1,
              "#f0f921"
             ]
            ],
            "type": "contour"
           }
          ],
          "contourcarpet": [
           {
            "colorbar": {
             "outlinewidth": 0,
             "ticks": ""
            },
            "type": "contourcarpet"
           }
          ],
          "heatmap": [
           {
            "colorbar": {
             "outlinewidth": 0,
             "ticks": ""
            },
            "colorscale": [
             [
              0,
              "#0d0887"
             ],
             [
              0.1111111111111111,
              "#46039f"
             ],
             [
              0.2222222222222222,
              "#7201a8"
             ],
             [
              0.3333333333333333,
              "#9c179e"
             ],
             [
              0.4444444444444444,
              "#bd3786"
             ],
             [
              0.5555555555555556,
              "#d8576b"
             ],
             [
              0.6666666666666666,
              "#ed7953"
             ],
             [
              0.7777777777777778,
              "#fb9f3a"
             ],
             [
              0.8888888888888888,
              "#fdca26"
             ],
             [
              1,
              "#f0f921"
             ]
            ],
            "type": "heatmap"
           }
          ],
          "heatmapgl": [
           {
            "colorbar": {
             "outlinewidth": 0,
             "ticks": ""
            },
            "colorscale": [
             [
              0,
              "#0d0887"
             ],
             [
              0.1111111111111111,
              "#46039f"
             ],
             [
              0.2222222222222222,
              "#7201a8"
             ],
             [
              0.3333333333333333,
              "#9c179e"
             ],
             [
              0.4444444444444444,
              "#bd3786"
             ],
             [
              0.5555555555555556,
              "#d8576b"
             ],
             [
              0.6666666666666666,
              "#ed7953"
             ],
             [
              0.7777777777777778,
              "#fb9f3a"
             ],
             [
              0.8888888888888888,
              "#fdca26"
             ],
             [
              1,
              "#f0f921"
             ]
            ],
            "type": "heatmapgl"
           }
          ],
          "histogram": [
           {
            "marker": {
             "pattern": {
              "fillmode": "overlay",
              "size": 10,
              "solidity": 0.2
             }
            },
            "type": "histogram"
           }
          ],
          "histogram2d": [
           {
            "colorbar": {
             "outlinewidth": 0,
             "ticks": ""
            },
            "colorscale": [
             [
              0,
              "#0d0887"
             ],
             [
              0.1111111111111111,
              "#46039f"
             ],
             [
              0.2222222222222222,
              "#7201a8"
             ],
             [
              0.3333333333333333,
              "#9c179e"
             ],
             [
              0.4444444444444444,
              "#bd3786"
             ],
             [
              0.5555555555555556,
              "#d8576b"
             ],
             [
              0.6666666666666666,
              "#ed7953"
             ],
             [
              0.7777777777777778,
              "#fb9f3a"
             ],
             [
              0.8888888888888888,
              "#fdca26"
             ],
             [
              1,
              "#f0f921"
             ]
            ],
            "type": "histogram2d"
           }
          ],
          "histogram2dcontour": [
           {
            "colorbar": {
             "outlinewidth": 0,
             "ticks": ""
            },
            "colorscale": [
             [
              0,
              "#0d0887"
             ],
             [
              0.1111111111111111,
              "#46039f"
             ],
             [
              0.2222222222222222,
              "#7201a8"
             ],
             [
              0.3333333333333333,
              "#9c179e"
             ],
             [
              0.4444444444444444,
              "#bd3786"
             ],
             [
              0.5555555555555556,
              "#d8576b"
             ],
             [
              0.6666666666666666,
              "#ed7953"
             ],
             [
              0.7777777777777778,
              "#fb9f3a"
             ],
             [
              0.8888888888888888,
              "#fdca26"
             ],
             [
              1,
              "#f0f921"
             ]
            ],
            "type": "histogram2dcontour"
           }
          ],
          "mesh3d": [
           {
            "colorbar": {
             "outlinewidth": 0,
             "ticks": ""
            },
            "type": "mesh3d"
           }
          ],
          "parcoords": [
           {
            "line": {
             "colorbar": {
              "outlinewidth": 0,
              "ticks": ""
             }
            },
            "type": "parcoords"
           }
          ],
          "pie": [
           {
            "automargin": true,
            "type": "pie"
           }
          ],
          "scatter": [
           {
            "fillpattern": {
             "fillmode": "overlay",
             "size": 10,
             "solidity": 0.2
            },
            "type": "scatter"
           }
          ],
          "scatter3d": [
           {
            "line": {
             "colorbar": {
              "outlinewidth": 0,
              "ticks": ""
             }
            },
            "marker": {
             "colorbar": {
              "outlinewidth": 0,
              "ticks": ""
             }
            },
            "type": "scatter3d"
           }
          ],
          "scattercarpet": [
           {
            "marker": {
             "colorbar": {
              "outlinewidth": 0,
              "ticks": ""
             }
            },
            "type": "scattercarpet"
           }
          ],
          "scattergeo": [
           {
            "marker": {
             "colorbar": {
              "outlinewidth": 0,
              "ticks": ""
             }
            },
            "type": "scattergeo"
           }
          ],
          "scattergl": [
           {
            "marker": {
             "colorbar": {
              "outlinewidth": 0,
              "ticks": ""
             }
            },
            "type": "scattergl"
           }
          ],
          "scattermapbox": [
           {
            "marker": {
             "colorbar": {
              "outlinewidth": 0,
              "ticks": ""
             }
            },
            "type": "scattermapbox"
           }
          ],
          "scatterpolar": [
           {
            "marker": {
             "colorbar": {
              "outlinewidth": 0,
              "ticks": ""
             }
            },
            "type": "scatterpolar"
           }
          ],
          "scatterpolargl": [
           {
            "marker": {
             "colorbar": {
              "outlinewidth": 0,
              "ticks": ""
             }
            },
            "type": "scatterpolargl"
           }
          ],
          "scatterternary": [
           {
            "marker": {
             "colorbar": {
              "outlinewidth": 0,
              "ticks": ""
             }
            },
            "type": "scatterternary"
           }
          ],
          "surface": [
           {
            "colorbar": {
             "outlinewidth": 0,
             "ticks": ""
            },
            "colorscale": [
             [
              0,
              "#0d0887"
             ],
             [
              0.1111111111111111,
              "#46039f"
             ],
             [
              0.2222222222222222,
              "#7201a8"
             ],
             [
              0.3333333333333333,
              "#9c179e"
             ],
             [
              0.4444444444444444,
              "#bd3786"
             ],
             [
              0.5555555555555556,
              "#d8576b"
             ],
             [
              0.6666666666666666,
              "#ed7953"
             ],
             [
              0.7777777777777778,
              "#fb9f3a"
             ],
             [
              0.8888888888888888,
              "#fdca26"
             ],
             [
              1,
              "#f0f921"
             ]
            ],
            "type": "surface"
           }
          ],
          "table": [
           {
            "cells": {
             "fill": {
              "color": "#EBF0F8"
             },
             "line": {
              "color": "white"
             }
            },
            "header": {
             "fill": {
              "color": "#C8D4E3"
             },
             "line": {
              "color": "white"
             }
            },
            "type": "table"
           }
          ]
         },
         "layout": {
          "annotationdefaults": {
           "arrowcolor": "#2a3f5f",
           "arrowhead": 0,
           "arrowwidth": 1
          },
          "autotypenumbers": "strict",
          "coloraxis": {
           "colorbar": {
            "outlinewidth": 0,
            "ticks": ""
           }
          },
          "colorscale": {
           "diverging": [
            [
             0,
             "#8e0152"
            ],
            [
             0.1,
             "#c51b7d"
            ],
            [
             0.2,
             "#de77ae"
            ],
            [
             0.3,
             "#f1b6da"
            ],
            [
             0.4,
             "#fde0ef"
            ],
            [
             0.5,
             "#f7f7f7"
            ],
            [
             0.6,
             "#e6f5d0"
            ],
            [
             0.7,
             "#b8e186"
            ],
            [
             0.8,
             "#7fbc41"
            ],
            [
             0.9,
             "#4d9221"
            ],
            [
             1,
             "#276419"
            ]
           ],
           "sequential": [
            [
             0,
             "#0d0887"
            ],
            [
             0.1111111111111111,
             "#46039f"
            ],
            [
             0.2222222222222222,
             "#7201a8"
            ],
            [
             0.3333333333333333,
             "#9c179e"
            ],
            [
             0.4444444444444444,
             "#bd3786"
            ],
            [
             0.5555555555555556,
             "#d8576b"
            ],
            [
             0.6666666666666666,
             "#ed7953"
            ],
            [
             0.7777777777777778,
             "#fb9f3a"
            ],
            [
             0.8888888888888888,
             "#fdca26"
            ],
            [
             1,
             "#f0f921"
            ]
           ],
           "sequentialminus": [
            [
             0,
             "#0d0887"
            ],
            [
             0.1111111111111111,
             "#46039f"
            ],
            [
             0.2222222222222222,
             "#7201a8"
            ],
            [
             0.3333333333333333,
             "#9c179e"
            ],
            [
             0.4444444444444444,
             "#bd3786"
            ],
            [
             0.5555555555555556,
             "#d8576b"
            ],
            [
             0.6666666666666666,
             "#ed7953"
            ],
            [
             0.7777777777777778,
             "#fb9f3a"
            ],
            [
             0.8888888888888888,
             "#fdca26"
            ],
            [
             1,
             "#f0f921"
            ]
           ]
          },
          "colorway": [
           "#636efa",
           "#EF553B",
           "#00cc96",
           "#ab63fa",
           "#FFA15A",
           "#19d3f3",
           "#FF6692",
           "#B6E880",
           "#FF97FF",
           "#FECB52"
          ],
          "font": {
           "color": "#2a3f5f"
          },
          "geo": {
           "bgcolor": "white",
           "lakecolor": "white",
           "landcolor": "#E5ECF6",
           "showlakes": true,
           "showland": true,
           "subunitcolor": "white"
          },
          "hoverlabel": {
           "align": "left"
          },
          "hovermode": "closest",
          "mapbox": {
           "style": "light"
          },
          "paper_bgcolor": "white",
          "plot_bgcolor": "#E5ECF6",
          "polar": {
           "angularaxis": {
            "gridcolor": "white",
            "linecolor": "white",
            "ticks": ""
           },
           "bgcolor": "#E5ECF6",
           "radialaxis": {
            "gridcolor": "white",
            "linecolor": "white",
            "ticks": ""
           }
          },
          "scene": {
           "xaxis": {
            "backgroundcolor": "#E5ECF6",
            "gridcolor": "white",
            "gridwidth": 2,
            "linecolor": "white",
            "showbackground": true,
            "ticks": "",
            "zerolinecolor": "white"
           },
           "yaxis": {
            "backgroundcolor": "#E5ECF6",
            "gridcolor": "white",
            "gridwidth": 2,
            "linecolor": "white",
            "showbackground": true,
            "ticks": "",
            "zerolinecolor": "white"
           },
           "zaxis": {
            "backgroundcolor": "#E5ECF6",
            "gridcolor": "white",
            "gridwidth": 2,
            "linecolor": "white",
            "showbackground": true,
            "ticks": "",
            "zerolinecolor": "white"
           }
          },
          "shapedefaults": {
           "line": {
            "color": "#2a3f5f"
           }
          },
          "ternary": {
           "aaxis": {
            "gridcolor": "white",
            "linecolor": "white",
            "ticks": ""
           },
           "baxis": {
            "gridcolor": "white",
            "linecolor": "white",
            "ticks": ""
           },
           "bgcolor": "#E5ECF6",
           "caxis": {
            "gridcolor": "white",
            "linecolor": "white",
            "ticks": ""
           }
          },
          "title": {
           "x": 0.05
          },
          "xaxis": {
           "automargin": true,
           "gridcolor": "white",
           "linecolor": "white",
           "ticks": "",
           "title": {
            "standoff": 15
           },
           "zerolinecolor": "white",
           "zerolinewidth": 2
          },
          "yaxis": {
           "automargin": true,
           "gridcolor": "white",
           "linecolor": "white",
           "ticks": "",
           "title": {
            "standoff": 15
           },
           "zerolinecolor": "white",
           "zerolinewidth": 2
          }
         }
        },
        "title": {
         "text": "Count of Unique values in each column"
        },
        "xaxis": {
         "anchor": "y",
         "domain": [
          0,
          1
         ],
         "title": {
          "text": "index"
         }
        },
        "yaxis": {
         "anchor": "x",
         "domain": [
          0,
          1
         ],
         "title": {
          "text": "value"
         }
        }
       }
      }
     },
     "metadata": {},
     "output_type": "display_data"
    }
   ],
   "source": [
    "px.bar(df[[col for col in df.columns if df[col].dtype == 'object']].nunique(), title='Count of Unique values in each column')"
   ]
  },
  {
   "cell_type": "code",
   "execution_count": 19,
   "metadata": {},
   "outputs": [
    {
     "name": "stdout",
     "output_type": "stream",
     "text": [
      "<class 'pandas.core.frame.DataFrame'>\n",
      "Index: 335433 entries, 2860 to 437097\n",
      "Data columns (total 17 columns):\n",
      " #   Column          Non-Null Count   Dtype  \n",
      "---  ------          --------------   -----  \n",
      " 0   Distance        335433 non-null  int64  \n",
      " 1   Weight          335433 non-null  float64\n",
      " 2   Barrier         335433 non-null  int64  \n",
      " 3   Jockeyid        335433 non-null  int64  \n",
      " 4   Trackcondition  335433 non-null  int32  \n",
      " 5   Settling Pos    335433 non-null  float64\n",
      " 6   Neural          335433 non-null  float64\n",
      " 7   Limitweight     335433 non-null  float64\n",
      " 8   Weighttype      335433 non-null  int32  \n",
      " 9   Age             335433 non-null  float64\n",
      " 10  Rno             335433 non-null  int64  \n",
      " 11  Sex             335433 non-null  int32  \n",
      " 12  Margin          335433 non-null  float64\n",
      " 13  LSFinPos        335433 non-null  float64\n",
      " 14  LSSP            335433 non-null  float64\n",
      " 15  Starters        335433 non-null  float64\n",
      " 16  Position        335433 non-null  int64  \n",
      "dtypes: float64(9), int32(3), int64(5)\n",
      "memory usage: 42.2 MB\n"
     ]
    }
   ],
   "source": [
    "from sklearn.preprocessing import LabelEncoder, StandardScaler\n",
    "\n",
    "# scaler = StandardScaler()\n",
    "# num_cols = [col for col in df.columns if df[col].dtype not in ('object', 'datetime64[ns]') and col != 'Position']\n",
    "# df_scaled = scaler.fit_transform(df[num_cols])\n",
    "# df[num_cols] = pd.DataFrame(df_scaled, columns=num_cols)\n",
    "\n",
    "\n",
    "\n",
    "cat_cols = [col for col in df.columns if df[col].dtype == 'object']\n",
    "encs = {}\n",
    "for col in cat_cols:\n",
    "    encs[col] = LabelEncoder()\n",
    "    df[col] = encs[col].fit_transform(df[col].astype(str))\n",
    "\n",
    "\n",
    "df.dropna(inplace=True)\n",
    "df.info()"
   ]
  },
  {
   "cell_type": "code",
   "execution_count": 20,
   "metadata": {},
   "outputs": [
    {
     "data": {
      "text/html": [
       "<div>\n",
       "<style scoped>\n",
       "    .dataframe tbody tr th:only-of-type {\n",
       "        vertical-align: middle;\n",
       "    }\n",
       "\n",
       "    .dataframe tbody tr th {\n",
       "        vertical-align: top;\n",
       "    }\n",
       "\n",
       "    .dataframe thead th {\n",
       "        text-align: right;\n",
       "    }\n",
       "</style>\n",
       "<table border=\"1\" class=\"dataframe\">\n",
       "  <thead>\n",
       "    <tr style=\"text-align: right;\">\n",
       "      <th></th>\n",
       "      <th>Distance</th>\n",
       "      <th>Weight</th>\n",
       "      <th>Barrier</th>\n",
       "      <th>Jockeyid</th>\n",
       "      <th>Trackcondition</th>\n",
       "      <th>Settling Pos</th>\n",
       "      <th>Neural</th>\n",
       "      <th>Limitweight</th>\n",
       "      <th>Weighttype</th>\n",
       "      <th>Age</th>\n",
       "      <th>Rno</th>\n",
       "      <th>Sex</th>\n",
       "      <th>Margin</th>\n",
       "      <th>LSFinPos</th>\n",
       "      <th>LSSP</th>\n",
       "      <th>Starters</th>\n",
       "      <th>Position</th>\n",
       "    </tr>\n",
       "  </thead>\n",
       "  <tbody>\n",
       "    <tr>\n",
       "      <th>2860</th>\n",
       "      <td>1500</td>\n",
       "      <td>60.0</td>\n",
       "      <td>7</td>\n",
       "      <td>14963</td>\n",
       "      <td>4</td>\n",
       "      <td>7.0</td>\n",
       "      <td>0.00</td>\n",
       "      <td>55.0</td>\n",
       "      <td>0</td>\n",
       "      <td>5.0</td>\n",
       "      <td>13</td>\n",
       "      <td>2</td>\n",
       "      <td>2.2</td>\n",
       "      <td>6.0</td>\n",
       "      <td>11.0</td>\n",
       "      <td>10.0</td>\n",
       "      <td>0</td>\n",
       "    </tr>\n",
       "    <tr>\n",
       "      <th>3140</th>\n",
       "      <td>1100</td>\n",
       "      <td>56.0</td>\n",
       "      <td>8</td>\n",
       "      <td>14567</td>\n",
       "      <td>6</td>\n",
       "      <td>5.0</td>\n",
       "      <td>7.74</td>\n",
       "      <td>55.0</td>\n",
       "      <td>0</td>\n",
       "      <td>8.0</td>\n",
       "      <td>37</td>\n",
       "      <td>2</td>\n",
       "      <td>0.3</td>\n",
       "      <td>8.0</td>\n",
       "      <td>7.5</td>\n",
       "      <td>12.0</td>\n",
       "      <td>1</td>\n",
       "    </tr>\n",
       "    <tr>\n",
       "      <th>3146</th>\n",
       "      <td>1100</td>\n",
       "      <td>54.0</td>\n",
       "      <td>12</td>\n",
       "      <td>16218</td>\n",
       "      <td>6</td>\n",
       "      <td>11.0</td>\n",
       "      <td>47.57</td>\n",
       "      <td>55.0</td>\n",
       "      <td>0</td>\n",
       "      <td>4.0</td>\n",
       "      <td>21</td>\n",
       "      <td>4</td>\n",
       "      <td>1.2</td>\n",
       "      <td>6.0</td>\n",
       "      <td>6.0</td>\n",
       "      <td>12.0</td>\n",
       "      <td>0</td>\n",
       "    </tr>\n",
       "    <tr>\n",
       "      <th>3257</th>\n",
       "      <td>1100</td>\n",
       "      <td>53.0</td>\n",
       "      <td>6</td>\n",
       "      <td>16327</td>\n",
       "      <td>6</td>\n",
       "      <td>11.0</td>\n",
       "      <td>21.67</td>\n",
       "      <td>0.0</td>\n",
       "      <td>2</td>\n",
       "      <td>6.0</td>\n",
       "      <td>50</td>\n",
       "      <td>4</td>\n",
       "      <td>8.1</td>\n",
       "      <td>3.0</td>\n",
       "      <td>3.6</td>\n",
       "      <td>12.0</td>\n",
       "      <td>0</td>\n",
       "    </tr>\n",
       "    <tr>\n",
       "      <th>3296</th>\n",
       "      <td>1800</td>\n",
       "      <td>55.0</td>\n",
       "      <td>5</td>\n",
       "      <td>7710</td>\n",
       "      <td>6</td>\n",
       "      <td>6.0</td>\n",
       "      <td>31.41</td>\n",
       "      <td>55.0</td>\n",
       "      <td>0</td>\n",
       "      <td>5.0</td>\n",
       "      <td>19</td>\n",
       "      <td>2</td>\n",
       "      <td>5.4</td>\n",
       "      <td>5.0</td>\n",
       "      <td>3.5</td>\n",
       "      <td>12.0</td>\n",
       "      <td>0</td>\n",
       "    </tr>\n",
       "    <tr>\n",
       "      <th>3329</th>\n",
       "      <td>1600</td>\n",
       "      <td>55.0</td>\n",
       "      <td>6</td>\n",
       "      <td>3123</td>\n",
       "      <td>6</td>\n",
       "      <td>9.0</td>\n",
       "      <td>12.12</td>\n",
       "      <td>55.0</td>\n",
       "      <td>0</td>\n",
       "      <td>8.0</td>\n",
       "      <td>70</td>\n",
       "      <td>2</td>\n",
       "      <td>1.0</td>\n",
       "      <td>4.0</td>\n",
       "      <td>6.0</td>\n",
       "      <td>12.0</td>\n",
       "      <td>1</td>\n",
       "    </tr>\n",
       "    <tr>\n",
       "      <th>3338</th>\n",
       "      <td>1600</td>\n",
       "      <td>55.0</td>\n",
       "      <td>10</td>\n",
       "      <td>7710</td>\n",
       "      <td>6</td>\n",
       "      <td>8.0</td>\n",
       "      <td>16.11</td>\n",
       "      <td>55.0</td>\n",
       "      <td>0</td>\n",
       "      <td>5.0</td>\n",
       "      <td>31</td>\n",
       "      <td>2</td>\n",
       "      <td>13.0</td>\n",
       "      <td>5.0</td>\n",
       "      <td>10.0</td>\n",
       "      <td>12.0</td>\n",
       "      <td>0</td>\n",
       "    </tr>\n",
       "    <tr>\n",
       "      <th>3361</th>\n",
       "      <td>1500</td>\n",
       "      <td>58.5</td>\n",
       "      <td>10</td>\n",
       "      <td>13046</td>\n",
       "      <td>0</td>\n",
       "      <td>2.0</td>\n",
       "      <td>13.60</td>\n",
       "      <td>0.0</td>\n",
       "      <td>3</td>\n",
       "      <td>4.0</td>\n",
       "      <td>13</td>\n",
       "      <td>2</td>\n",
       "      <td>20.5</td>\n",
       "      <td>6.0</td>\n",
       "      <td>40.0</td>\n",
       "      <td>12.0</td>\n",
       "      <td>0</td>\n",
       "    </tr>\n",
       "    <tr>\n",
       "      <th>3504</th>\n",
       "      <td>1600</td>\n",
       "      <td>59.5</td>\n",
       "      <td>2</td>\n",
       "      <td>13146</td>\n",
       "      <td>4</td>\n",
       "      <td>5.0</td>\n",
       "      <td>22.28</td>\n",
       "      <td>54.0</td>\n",
       "      <td>0</td>\n",
       "      <td>5.0</td>\n",
       "      <td>21</td>\n",
       "      <td>2</td>\n",
       "      <td>9.9</td>\n",
       "      <td>4.0</td>\n",
       "      <td>31.0</td>\n",
       "      <td>8.0</td>\n",
       "      <td>0</td>\n",
       "    </tr>\n",
       "    <tr>\n",
       "      <th>3515</th>\n",
       "      <td>1000</td>\n",
       "      <td>54.0</td>\n",
       "      <td>1</td>\n",
       "      <td>10061</td>\n",
       "      <td>4</td>\n",
       "      <td>3.0</td>\n",
       "      <td>5.17</td>\n",
       "      <td>54.0</td>\n",
       "      <td>0</td>\n",
       "      <td>7.0</td>\n",
       "      <td>39</td>\n",
       "      <td>2</td>\n",
       "      <td>7.9</td>\n",
       "      <td>5.0</td>\n",
       "      <td>8.5</td>\n",
       "      <td>6.0</td>\n",
       "      <td>0</td>\n",
       "    </tr>\n",
       "  </tbody>\n",
       "</table>\n",
       "</div>"
      ],
      "text/plain": [
       "      Distance  Weight  Barrier  Jockeyid  Trackcondition  Settling Pos  \\\n",
       "2860      1500    60.0        7     14963               4           7.0   \n",
       "3140      1100    56.0        8     14567               6           5.0   \n",
       "3146      1100    54.0       12     16218               6          11.0   \n",
       "3257      1100    53.0        6     16327               6          11.0   \n",
       "3296      1800    55.0        5      7710               6           6.0   \n",
       "3329      1600    55.0        6      3123               6           9.0   \n",
       "3338      1600    55.0       10      7710               6           8.0   \n",
       "3361      1500    58.5       10     13046               0           2.0   \n",
       "3504      1600    59.5        2     13146               4           5.0   \n",
       "3515      1000    54.0        1     10061               4           3.0   \n",
       "\n",
       "      Neural  Limitweight  Weighttype  Age  Rno  Sex  Margin  LSFinPos  LSSP  \\\n",
       "2860    0.00         55.0           0  5.0   13    2     2.2       6.0  11.0   \n",
       "3140    7.74         55.0           0  8.0   37    2     0.3       8.0   7.5   \n",
       "3146   47.57         55.0           0  4.0   21    4     1.2       6.0   6.0   \n",
       "3257   21.67          0.0           2  6.0   50    4     8.1       3.0   3.6   \n",
       "3296   31.41         55.0           0  5.0   19    2     5.4       5.0   3.5   \n",
       "3329   12.12         55.0           0  8.0   70    2     1.0       4.0   6.0   \n",
       "3338   16.11         55.0           0  5.0   31    2    13.0       5.0  10.0   \n",
       "3361   13.60          0.0           3  4.0   13    2    20.5       6.0  40.0   \n",
       "3504   22.28         54.0           0  5.0   21    2     9.9       4.0  31.0   \n",
       "3515    5.17         54.0           0  7.0   39    2     7.9       5.0   8.5   \n",
       "\n",
       "      Starters  Position  \n",
       "2860      10.0         0  \n",
       "3140      12.0         1  \n",
       "3146      12.0         0  \n",
       "3257      12.0         0  \n",
       "3296      12.0         0  \n",
       "3329      12.0         1  \n",
       "3338      12.0         0  \n",
       "3361      12.0         0  \n",
       "3504       8.0         0  \n",
       "3515       6.0         0  "
      ]
     },
     "execution_count": 20,
     "metadata": {},
     "output_type": "execute_result"
    }
   ],
   "source": [
    "df.head(10)"
   ]
  },
  {
   "cell_type": "code",
   "execution_count": 21,
   "metadata": {},
   "outputs": [
    {
     "data": {
      "image/png": "[encoded data removed]",
      "text/plain": [
       "<Figure size 2160x2160 with 2 Axes>"
      ]
     },
     "metadata": {},
     "output_type": "display_data"
    }
   ],
   "source": [
    "import matplotlib.pyplot as plt\n",
    "# Matplotlib: Library for creating static, interactive, and animated visualizations.\n",
    "\n",
    "%matplotlib inline\n",
    "# IPython magic command to display Matplotlib plots inline in Jupyter notebooks.\n",
    "\n",
    "import seaborn as sns\n",
    "sns.set_style('darkgrid')\n",
    "# Seaborn: Library for statistical data visualization built on top of Matplotlib. \n",
    "# Set the default style for Seaborn plots to 'darkgrid'.\n",
    "\n",
    "import warnings\n",
    "warnings.filterwarnings(\"ignore\")\n",
    "\n",
    "plt.figure(figsize=(30, 30))\n",
    "sns.heatmap(df.corr(), annot=True, cmap=\"Greens\", linewidths=0.1, annot_kws={\"fontsize\":10});"
   ]
  },
  {
   "cell_type": "code",
   "execution_count": 22,
   "metadata": {},
   "outputs": [],
   "source": [
    "# from sklearn.model_selection import train_test_split\n",
    "\n",
    "# # Extracting features (X) by dropping the 'Position' column from the 'df' DataFrame\n",
    "# X = df.drop(['Position'], axis=1)\n",
    "\n",
    "# # Extracting the target variable (y) by selecting only the 'Position' column from the 'df' DataFrame\n",
    "# y = df['Position']\n",
    "# print('Befroe Balancing:')\n",
    "# print(y.value_counts())\n",
    "\n",
    "# from sklearn.utils import resample\n",
    "\n",
    "# def balance_classes(X_train, y_train, random_state=42, majority_class = 0, minority_class = 1):\n",
    "#     # Concatenate X_train and y_train for easier manipulation\n",
    "#     train_data = pd.concat([X_train, y_train], axis=1)\n",
    "\n",
    "#     # Separate classes\n",
    "#     majority_class = train_data[train_data['Position'] == majority_class]\n",
    "#     minority_class = train_data[train_data['Position'] == minority_class]\n",
    "\n",
    "#     # Downsample majority class to match minority class size\n",
    "#     majority_downsampled = resample(majority_class,\n",
    "#                                     replace=False,\n",
    "#                                     n_samples=len(minority_class),\n",
    "#                                     random_state=random_state)\n",
    "\n",
    "#     # Combine minority class and downsampled majority class\n",
    "#     balanced_train_data = pd.concat([majority_downsampled, minority_class])\n",
    "\n",
    "#     # Shuffle the data\n",
    "#     balanced_train_data = balanced_train_data.sample(frac=1, random_state=random_state)\n",
    "#     balanced_train_data = balanced_train_data[balanced_train_data.corr().dropna(axis=1, how='all').columns]\n",
    "\n",
    "#     # Separate X_train and y_train after balancing\n",
    "#     X_train_balanced = balanced_train_data.drop('Position', axis=1)\n",
    "#     y_train_balanced = balanced_train_data['Position']\n",
    "\n",
    "#     return X_train_balanced, y_train_balanced.astype(int), balanced_train_data\n",
    "\n",
    "\n",
    "# # Assuming X_train and y_train are your original unbalanced training data\n",
    "# X, y, balanced_data = balance_classes(X, y, random_state=42)\n",
    "# print('After Balancing:')\n",
    "# print(y.value_counts())\n",
    "# # random_state=42: A random seed used to ensure reproducibility of the same train-test split each time the code runs\n",
    "# X_train, X_test, y_train, y_test = train_test_split(X, y, test_size=0.1, random_state=42)"
   ]
  },
  {
   "cell_type": "code",
   "execution_count": 23,
   "metadata": {},
   "outputs": [],
   "source": [
    "from sklearn.model_selection import train_test_split\n",
    "\n",
    "# Extracting features (X) by dropping the 'Position' column from the 'df' DataFrame\n",
    "X = df.drop(['Position'], axis=1)\n",
    "\n",
    "# Extracting the target variable (y) by selecting only the 'Position' column from the 'df' DataFrame\n",
    "y = df['Position']\n",
    "\n",
    "\n",
    "from sklearn.utils import resample\n",
    "\n",
    "# random_state=42: A random seed used to ensure reproducibility of the same train-test split each time the code runs\n",
    "X_train, X_test, y_train, y_test = train_test_split(X, y, test_size=0.1, random_state=42)"
   ]
  },
  {
   "cell_type": "code",
   "execution_count": 24,
   "metadata": {},
   "outputs": [
    {
     "data": {
      "text/plain": [
       "Index(['Distance', 'Weight', 'Barrier', 'Jockeyid', 'Trackcondition',\n",
       "       'Settling Pos', 'Neural', 'Limitweight', 'Weighttype', 'Age', 'Rno',\n",
       "       'Sex', 'Margin', 'LSFinPos', 'LSSP', 'Starters'],\n",
       "      dtype='object')"
      ]
     },
     "execution_count": 24,
     "metadata": {},
     "output_type": "execute_result"
    }
   ],
   "source": [
    "X_test.columns"
   ]
  },
  {
   "cell_type": "code",
   "execution_count": 25,
   "metadata": {},
   "outputs": [
    {
     "name": "stdout",
     "output_type": "stream",
     "text": [
      "Befroe Balancing:\n",
      "Position\n",
      "0    208284\n",
      "1     93605\n",
      "Name: count, dtype: int64\n",
      "After Balancing:\n",
      "Position\n",
      "1    93605\n",
      "0    93605\n",
      "Name: count, dtype: int64\n"
     ]
    }
   ],
   "source": [
    "print('Befroe Balancing:')\n",
    "print(y_train.value_counts())\n",
    "\n",
    "from sklearn.utils import resample\n",
    "\n",
    "def balance_classes(X_train, y_train, random_state=42, majority_class = 0, minority_class = 1):\n",
    "    # Concatenate X_train and y_train for easier manipulation\n",
    "    train_data = pd.concat([X_train, y_train], axis=1)\n",
    "\n",
    "    # Separate classes\n",
    "    majority_class = train_data[train_data['Position'] == majority_class]\n",
    "    minority_class = train_data[train_data['Position'] == minority_class]\n",
    "\n",
    "    # Downsample majority class to match minority class size\n",
    "    majority_downsampled = resample(majority_class,\n",
    "                                    replace=False,\n",
    "                                    n_samples=len(minority_class),\n",
    "                                    random_state=random_state)\n",
    "\n",
    "    # Combine minority class and downsampled majority class\n",
    "    balanced_train_data = pd.concat([majority_downsampled, minority_class])\n",
    "\n",
    "    # Shuffle the data\n",
    "    balanced_train_data = balanced_train_data.sample(frac=1, random_state=random_state)\n",
    "    balanced_train_data = balanced_train_data[balanced_train_data.corr().dropna(axis=1, how='all').columns]\n",
    "\n",
    "    # Separate X_train and y_train after balancing\n",
    "    X_train_balanced = balanced_train_data.drop('Position', axis=1)\n",
    "    y_train_balanced = balanced_train_data['Position']\n",
    "\n",
    "    return X_train_balanced, y_train_balanced.astype(int), balanced_train_data\n",
    "\n",
    "\n",
    "# Assuming X_train and y_train are your original unbalanced training data\n",
    "X_train, y_train, balanced_data = balance_classes(X_train, y_train, random_state=42)\n",
    "print('After Balancing:')\n",
    "print(y_train.value_counts())"
   ]
  },
  {
   "cell_type": "code",
   "execution_count": 26,
   "metadata": {},
   "outputs": [],
   "source": [
    "from sklearn.metrics import accuracy_score, precision_score, recall_score, f1_score\n",
    "import numpy as np\n",
    "# ! pip install M-ana-package\n",
    "import MAna as ma\n",
    "ma.set_seed()\n",
    "\n",
    "import warnings\n",
    "warnings.filterwarnings(\"ignore\")  # ignore all warning messages\n",
    "\n",
    "def evaluate(y_pred, y_test = y_test):\n",
    "    # # Calculate and print the accuracy for each activity\n",
    "    unique_activities = np.unique(y_test)\n",
    "    for activity in unique_activities:\n",
    "        activity_indices = np.where(y_test == activity)\n",
    "        try:\n",
    "            activity_predictions = y_pred[activity_indices]\n",
    "        except:\n",
    "            activity_predictions = y_pred[activity_indices[0]]\n",
    "        activity_ground_truth = y_test.iloc[activity_indices[0]]\n",
    "        activity_accuracy = accuracy_score(activity_ground_truth, activity_predictions)\n",
    "        print(f\"Accuracy for Activity {activity}: {activity_accuracy}\")\n",
    "    # Evaluate the model performance\n",
    "    accuracy = accuracy_score(y_test, y_pred)\n",
    "    precision = precision_score(y_test, y_pred, average='weighted')\n",
    "    recall = recall_score(y_test, y_pred, average='weighted')\n",
    "    f1 = f1_score(y_test, y_pred, average='weighted')\n",
    "\n",
    "    print(f'Accuracy: {accuracy:.2f}')\n",
    "    print(f'Precision: {precision:.2f}')\n",
    "    print(f'Recall: {recall:.2f}')\n",
    "    print(f'F1 Score: {f1:.2f}')\n",
    "\n",
    "    return ma.confusion_matrix(y_test, y_pred, (10, 10))"
   ]
  },
  {
   "cell_type": "code",
   "execution_count": null,
   "metadata": {},
   "outputs": [],
   "source": []
  },
  {
   "cell_type": "code",
   "execution_count": 58,
   "metadata": {},
   "outputs": [
    {
     "name": "stdout",
     "output_type": "stream",
     "text": [
      "Accuracy for Activity 0: 0.8699074474526425\n",
      "Accuracy for Activity 1: 0.8659566302053349\n",
      "Accuracy: 0.87\n",
      "Precision: 0.88\n",
      "Recall: 0.87\n",
      "F1 Score: 0.87\n"
     ]
    },
    {
     "data": {
      "image/png": "[encoded data removed]",
      "text/plain": [
       "<Figure size 720x720 with 1 Axes>"
      ]
     },
     "metadata": {},
     "output_type": "display_data"
    }
   ],
   "source": [
    "from xgboost import XGBRegressor\n",
    "import warnings\n",
    "warnings.filterwarnings(\"ignore\")\n",
    "\n",
    "# Train the XGBoost model\n",
    "xgb_model = XGBRegressor(objective='reg:squarederror', random_state=42)\n",
    "xgb_model.fit(X_train, y_train)\n",
    "\n",
    "# Make predictions\n",
    "xgb_preds = xgb_model.predict(X_test).round()\n",
    "\n",
    "evaluate(xgb_preds)"
   ]
  },
  {
   "cell_type": "code",
   "execution_count": 59,
   "metadata": {},
   "outputs": [],
   "source": [
    "# Calculate permutation importance\n",
    "feature_importances = xgb_model.feature_importances_"
   ]
  },
  {
   "cell_type": "code",
   "execution_count": 60,
   "metadata": {},
   "outputs": [],
   "source": [
    "sorted_cols = pd.Series(feature_importances, index=X.columns).abs().sort_values(ascending=False)"
   ]
  },
  {
   "cell_type": "code",
   "execution_count": 61,
   "metadata": {},
   "outputs": [
    {
     "data": {
      "image/png": "[encoded data removed]",
      "text/plain": [
       "<Figure size 1440x1440 with 1 Axes>"
      ]
     },
     "metadata": {},
     "output_type": "display_data"
    }
   ],
   "source": [
    "# Create a figure with the desired size\n",
    "plt.figure(figsize=(20, 20))  # Adjust the width and height as per your preference\n",
    "\n",
    "# Assuming you have already defined `feature_importances` and `np.abs(feature_importances)`\n",
    "feature_importances = pd.Series(sorted_cols.values,index=sorted_cols.index).abs().sort_values(ascending=False)\n",
    "sns.barplot(x=feature_importances, y=feature_importances.index)\n",
    "\n",
    "# Display the plot\n",
    "plt.show()"
   ]
  },
  {
   "cell_type": "code",
   "execution_count": 62,
   "metadata": {},
   "outputs": [
    {
     "name": "stdout",
     "output_type": "stream",
     "text": [
      "1  :  82.89999999999999 %\n",
      "2  :  83.36 %\n",
      "3  :  83.43 %\n",
      "4  :  83.72 %\n",
      "5  :  83.91999999999999 %\n",
      "6  :  83.94 %\n",
      "7  :  84.07 %\n",
      "8  :  84.33 %\n",
      "9  :  84.17 %\n",
      "10  :  84.21 %\n",
      "11  :  84.24000000000001 %\n",
      "12  :  84.44 %\n",
      "13  :  84.25 %\n",
      "14  :  84.33 %\n",
      "15  :  84.26 %\n",
      "16  :  84.27 %\n"
     ]
    }
   ],
   "source": [
    "cols_and_scores = {}\n",
    "# Convert X_train and X_test to DataFrames\n",
    "X_train = pd.DataFrame(X_train, columns=X.columns)\n",
    "X_test = pd.DataFrame(X_test, columns=X.columns)\n",
    "\n",
    "for n in range(1,int(len(sorted_cols))+1,1):\n",
    "\n",
    "    cols = sorted_cols.head(n).index\n",
    "\n",
    "    # Make predictions on the test set\n",
    "    classifier = XGBRegressor(objective='reg:squarederror', random_state=42)\n",
    "    classifier.fit(X_train[cols], y_train)\n",
    "    predictions = classifier.predict(X_test[cols]).round()\n",
    "\n",
    "    # Calculate the evaluation metrics\n",
    "    accuracies = []\n",
    "    # Calculate and print the accuracy for each class\n",
    "    unique_activities = np.unique(y_test)\n",
    "    for activity in unique_activities:\n",
    "        activity_indices = np.where(predictions == activity)[0]\n",
    "        activity_predictions = predictions[activity_indices]\n",
    "        activity_ground_truth = y_test.values[activity_indices]\n",
    "        activity_accuracy = accuracy_score(activity_ground_truth, activity_predictions)\n",
    "        accuracies.append(activity_accuracy)\n",
    "\n",
    "    accuracy = np.mean(accuracies)\n",
    "\n",
    "    cols_and_scores[accuracy] = cols\n",
    "    print(n,' : ', round(accuracy,4)*100,'%')"
   ]
  },
  {
   "cell_type": "code",
   "execution_count": 63,
   "metadata": {},
   "outputs": [
    {
     "data": {
      "text/plain": [
       "12"
      ]
     },
     "execution_count": 63,
     "metadata": {},
     "output_type": "execute_result"
    }
   ],
   "source": [
    "len(pd.Series(cols_and_scores)[max(cols_and_scores.keys())].to_list()) # Printing the best set columns for the model."
   ]
  },
  {
   "cell_type": "code",
   "execution_count": 64,
   "metadata": {},
   "outputs": [
    {
     "name": "stdout",
     "output_type": "stream",
     "text": [
      "Accuracy for Activity 0: 0.8707291756768446\n",
      "Accuracy for Activity 1: 0.8696987142582997\n",
      "Accuracy: 0.87\n",
      "Precision: 0.88\n",
      "Recall: 0.87\n",
      "F1 Score: 0.87\n"
     ]
    },
    {
     "data": {
      "image/png": "[encoded data removed]",
      "text/plain": [
       "<Figure size 720x720 with 1 Axes>"
      ]
     },
     "metadata": {},
     "output_type": "display_data"
    }
   ],
   "source": [
    "from xgboost import XGBRegressor\n",
    "\n",
    "xgb_cols = pd.Series(cols_and_scores)[max(cols_and_scores.keys())].to_list()\n",
    "# Train the XGBoost model\n",
    "xgb_model = XGBRegressor(objective='reg:squarederror', random_state=42)\n",
    "xgb_model.fit(X_train[xgb_cols], y_train)\n",
    "\n",
    "# Make predictions\n",
    "xgb_preds = xgb_model.predict(X_test[xgb_cols]).round()\n",
    "\n",
    "evaluate(xgb_preds)"
   ]
  },
  {
   "cell_type": "code",
   "execution_count": 65,
   "metadata": {},
   "outputs": [
    {
     "name": "stdout",
     "output_type": "stream",
     "text": [
      "Best Parameters: {'learning_rate': 0.1, 'max_depth': 3, 'n_estimators': 1000}\n",
      "Best Score: -0.09417647972302966\n"
     ]
    }
   ],
   "source": [
    "from sklearn.model_selection import GridSearchCV\n",
    "\n",
    "# Define hyperparameters and their possible values for grid search\n",
    "# Define the parameter grid for GridSearch\n",
    "param_grid = {\n",
    "    'n_estimators': [100, 500, 1000],\n",
    "    'learning_rate': [None, 0.001, 0.01, 0.1],\n",
    "    'max_depth': [None , 3, 5]\n",
    "}\n",
    "\n",
    "# Create the GridSearchCV object\n",
    "grid_search = GridSearchCV(estimator=XGBRegressor(objective='reg:squarederror', random_state=42),\n",
    "                           param_grid=param_grid,\n",
    "                           scoring='neg_mean_squared_error',\n",
    "                           cv=3,\n",
    "                           n_jobs=-1)\n",
    "\n",
    "# Fit the GridSearchCV object to the training data\n",
    "grid_search.fit(X_train[xgb_cols], y_train)\n",
    "\n",
    "# Get the best parameters and best score from the grid search\n",
    "best_params = grid_search.best_params_\n",
    "best_score = grid_search.best_score_\n",
    "\n",
    "# Print the best parameters and best score\n",
    "print(\"Best Parameters:\", best_params)\n",
    "print(\"Best Score:\", best_score)"
   ]
  },
  {
   "cell_type": "code",
   "execution_count": 66,
   "metadata": {},
   "outputs": [
    {
     "name": "stdout",
     "output_type": "stream",
     "text": [
      "Accuracy for Activity 0: 0.8722428855635326\n",
      "Accuracy for Activity 1: 0.8669161389368644\n",
      "Accuracy: 0.87\n",
      "Precision: 0.88\n",
      "Recall: 0.87\n",
      "F1 Score: 0.87\n"
     ]
    },
    {
     "data": {
      "image/png": "[encoded data removed]",
      "text/plain": [
       "<Figure size 720x720 with 1 Axes>"
      ]
     },
     "metadata": {},
     "output_type": "display_data"
    }
   ],
   "source": [
    "# Make predictions on the test set\n",
    "classifier = grid_search.best_estimator_\n",
    "predictions = classifier.predict(X_test[xgb_cols]).round()\n",
    "\n",
    "evaluate(predictions)"
   ]
  },
  {
   "cell_type": "code",
   "execution_count": 67,
   "metadata": {},
   "outputs": [],
   "source": [
    "import pickle as pk\n",
    "\n",
    "with open('XGB.pkl','wb') as f:\n",
    "    pk.dump(classifier,f)\n",
    "\n",
    "with open('xgb_cols.pkl','wb') as f:\n",
    "    pk.dump(xgb_cols,f)\n",
    "\n",
    "with open('encoders.pkl','wb') as f:\n",
    "    pk.dump(encs,f)"
   ]
  },
  {
   "cell_type": "code",
   "execution_count": null,
   "metadata": {},
   "outputs": [],
   "source": []
  },
  {
   "cell_type": "code",
   "execution_count": null,
   "metadata": {},
   "outputs": [],
   "source": []
  },
  {
   "cell_type": "code",
   "execution_count": null,
   "metadata": {},
   "outputs": [],
   "source": [
    "import tensorflow as tf\n",
    "from keras.layers import LSTM, Dense, Dropout, GRU\n",
    "from keras.models import Sequential\n",
    "from keras import optimizers\n",
    "from tensorflow.keras import callbacks\n",
    "\n",
    "# Create the model\n",
    "LSTM_model = Sequential()\n",
    "LSTM_model.add(LSTM(16, return_sequences=True, input_shape=(X_train.shape[1], 1)))\n",
    "LSTM_model.add(LSTM(64, return_sequences=True))\n",
    "LSTM_model.add(Dropout(0.2))\n",
    "LSTM_model.add(GRU(32, return_sequences=False))\n",
    "LSTM_model.add(Dropout(0.1))\n",
    "LSTM_model.add(Dense(16))\n",
    "LSTM_model.add(Dense(1, activation='sigmoid'))\n",
    "\n",
    "# Compile the LSTM_model\n",
    "LSTM_model.compile(optimizer='adam', loss='binary_crossentropy', metrics=['accuracy'])\n",
    "\n",
    "early_stopping = callbacks.EarlyStopping(monitor='loss', patience=5, min_delta=0.001, restore_best_weights = True)\n",
    "# Train the LSTM_model\n",
    "LSTM_model.fit(X_train, y_train, epochs=100, batch_size=64, callbacks=[early_stopping])\n",
    "\n",
    "# Evaluate the LSTM_model on the test data\n",
    "# test_loss, test_accuracy = LSTM_model.evaluate(X_test, y_test)\n",
    "\n",
    "# Make predictions\n",
    "predictions = LSTM_model.predict(X_test)\n",
    "\n",
    "# Convert the predictions to percentages\n",
    "# percentage_predictions = predictions * 100\n",
    "\n",
    "# # Print the results\n",
    "# print('Test loss:', test_loss)\n",
    "# print('Test accuracy:', test_accuracy)"
   ]
  },
  {
   "cell_type": "code",
   "execution_count": 69,
   "metadata": {},
   "outputs": [
    {
     "name": "stdout",
     "output_type": "stream",
     "text": [
      "Accuracy for Activity 0: 0.8346596315197647\n",
      "Accuracy for Activity 1: 0.8466705047015928\n",
      "Accuracy: 0.84\n",
      "Precision: 0.85\n",
      "Recall: 0.84\n",
      "F1 Score: 0.84\n"
     ]
    },
    {
     "data": {
      "image/png": "[encoded data removed]",
      "text/plain": [
       "<Figure size 720x720 with 1 Axes>"
      ]
     },
     "metadata": {},
     "output_type": "display_data"
    }
   ],
   "source": [
    "evaluate(predictions.round())"
   ]
  },
  {
   "cell_type": "code",
   "execution_count": 70,
   "metadata": {},
   "outputs": [],
   "source": [
    "LSTM_model.save('my_model.h5')\n",
    "\n",
    "with open('LSTM_cols.pkl','wb') as f:\n",
    "    pk.dump(X.columns,f)"
   ]
  },
  {
   "cell_type": "code",
   "execution_count": null,
   "metadata": {},
   "outputs": [],
   "source": []
  },
  {
   "cell_type": "code",
   "execution_count": 74,
   "metadata": {},
   "outputs": [],
   "source": [
    "import tensorflow as tf\n",
    "\n",
    "# Load the saved model\n",
    "model = tf.keras.models.load_model('my_model.h5')\n",
    "\n",
    "import pickle as pk\n",
    "\n",
    "# Load the pickled XGB model\n",
    "with open('XGB.pkl', 'rb') as f:\n",
    "    classifier = pk.load(f)\n",
    "\n",
    "# Load the pickled XGB feature columns\n",
    "with open('xgb_cols.pkl', 'rb') as f:\n",
    "    xgb_cols = pk.load(f)\n",
    "\n",
    "with open('LSTM_cols.pkl', 'rb') as f:\n",
    "    LSTM_cols = pk.load(f)\n",
    "\n",
    "with open('encoders.pkl', 'rb') as f:\n",
    "    encs = pk.load(f)"
   ]
  },
  {
   "cell_type": "code",
   "execution_count": 75,
   "metadata": {},
   "outputs": [
    {
     "name": "stdout",
     "output_type": "stream",
     "text": [
      "1049/1049 [==============================] - 5s 4ms/step\n",
      "Accuracy for Activity 0: 0.858446501167719\n",
      "Accuracy for Activity 1: 0.8609671848013817\n",
      "Accuracy: 0.86\n",
      "Precision: 0.87\n",
      "Recall: 0.86\n",
      "F1 Score: 0.86\n"
     ]
    },
    {
     "data": {
      "image/png": "[encoded data removed]",
      "text/plain": [
       "<Figure size 720x720 with 1 Axes>"
      ]
     },
     "metadata": {},
     "output_type": "display_data"
    }
   ],
   "source": [
    "def predict(X):\n",
    "    xgb_preds = classifier.predict(X[xgb_cols])\n",
    "    lstm_preds = model.predict(X).reshape(xgb_preds.shape)\n",
    "\n",
    "    return (xgb_preds + lstm_preds) / 2\n",
    "    \n",
    "evaluate(predict(X_test).round())"
   ]
  },
  {
   "cell_type": "code",
   "execution_count": null,
   "metadata": {},
   "outputs": [],
   "source": []
  },
  {
   "cell_type": "code",
   "execution_count": 76,
   "metadata": {},
   "outputs": [
    {
     "data": {
      "text/html": [
       "<div>\n",
       "<style scoped>\n",
       "    .dataframe tbody tr th:only-of-type {\n",
       "        vertical-align: middle;\n",
       "    }\n",
       "\n",
       "    .dataframe tbody tr th {\n",
       "        vertical-align: top;\n",
       "    }\n",
       "\n",
       "    .dataframe thead th {\n",
       "        text-align: right;\n",
       "    }\n",
       "</style>\n",
       "<table border=\"1\" class=\"dataframe\">\n",
       "  <thead>\n",
       "    <tr style=\"text-align: right;\">\n",
       "      <th></th>\n",
       "      <th>Distance</th>\n",
       "      <th>Weight</th>\n",
       "      <th>Barrier</th>\n",
       "      <th>Jockeyid</th>\n",
       "      <th>Trackcondition</th>\n",
       "      <th>Settling Pos</th>\n",
       "      <th>Neural</th>\n",
       "      <th>Limitweight</th>\n",
       "      <th>Weighttype</th>\n",
       "      <th>Age</th>\n",
       "      <th>Rno</th>\n",
       "      <th>Sex</th>\n",
       "      <th>Margin</th>\n",
       "      <th>LSFinPos</th>\n",
       "      <th>LSSP</th>\n",
       "      <th>Starters</th>\n",
       "    </tr>\n",
       "  </thead>\n",
       "  <tbody>\n",
       "    <tr>\n",
       "      <th>0</th>\n",
       "      <td>1000.0</td>\n",
       "      <td>58.0</td>\n",
       "      <td>4.0</td>\n",
       "      <td>13529</td>\n",
       "      <td>6</td>\n",
       "      <td>3.0</td>\n",
       "      <td>4.0</td>\n",
       "      <td>0.0</td>\n",
       "      <td>2</td>\n",
       "      <td>4.0</td>\n",
       "      <td>12.0</td>\n",
       "      <td>2</td>\n",
       "      <td>6.5</td>\n",
       "      <td>12.0</td>\n",
       "      <td>16.0</td>\n",
       "      <td>10</td>\n",
       "    </tr>\n",
       "    <tr>\n",
       "      <th>1</th>\n",
       "      <td>1000.0</td>\n",
       "      <td>58.0</td>\n",
       "      <td>2.0</td>\n",
       "      <td>16335</td>\n",
       "      <td>6</td>\n",
       "      <td>4.0</td>\n",
       "      <td>2.0</td>\n",
       "      <td>0.0</td>\n",
       "      <td>2</td>\n",
       "      <td>6.0</td>\n",
       "      <td>13.0</td>\n",
       "      <td>2</td>\n",
       "      <td>0.5</td>\n",
       "      <td>3.0</td>\n",
       "      <td>9.0</td>\n",
       "      <td>10</td>\n",
       "    </tr>\n",
       "    <tr>\n",
       "      <th>2</th>\n",
       "      <td>1000.0</td>\n",
       "      <td>58.0</td>\n",
       "      <td>5.0</td>\n",
       "      <td>13600</td>\n",
       "      <td>6</td>\n",
       "      <td>7.0</td>\n",
       "      <td>6.0</td>\n",
       "      <td>0.0</td>\n",
       "      <td>2</td>\n",
       "      <td>4.0</td>\n",
       "      <td>11.0</td>\n",
       "      <td>2</td>\n",
       "      <td>26.0</td>\n",
       "      <td>10.0</td>\n",
       "      <td>19.0</td>\n",
       "      <td>10</td>\n",
       "    </tr>\n",
       "    <tr>\n",
       "      <th>3</th>\n",
       "      <td>1000.0</td>\n",
       "      <td>56.0</td>\n",
       "      <td>1.0</td>\n",
       "      <td>14215</td>\n",
       "      <td>6</td>\n",
       "      <td>5.0</td>\n",
       "      <td>1.0</td>\n",
       "      <td>0.0</td>\n",
       "      <td>2</td>\n",
       "      <td>3.0</td>\n",
       "      <td>3.0</td>\n",
       "      <td>2</td>\n",
       "      <td>12.4</td>\n",
       "      <td>5.0</td>\n",
       "      <td>3.4</td>\n",
       "      <td>10</td>\n",
       "    </tr>\n",
       "    <tr>\n",
       "      <th>4</th>\n",
       "      <td>1000.0</td>\n",
       "      <td>56.0</td>\n",
       "      <td>9.0</td>\n",
       "      <td>10067</td>\n",
       "      <td>6</td>\n",
       "      <td>9.0</td>\n",
       "      <td>3.0</td>\n",
       "      <td>0.0</td>\n",
       "      <td>2</td>\n",
       "      <td>4.0</td>\n",
       "      <td>1.0</td>\n",
       "      <td>4</td>\n",
       "      <td>5.6</td>\n",
       "      <td>2.0</td>\n",
       "      <td>6.0</td>\n",
       "      <td>10</td>\n",
       "    </tr>\n",
       "    <tr>\n",
       "      <th>...</th>\n",
       "      <td>...</td>\n",
       "      <td>...</td>\n",
       "      <td>...</td>\n",
       "      <td>...</td>\n",
       "      <td>...</td>\n",
       "      <td>...</td>\n",
       "      <td>...</td>\n",
       "      <td>...</td>\n",
       "      <td>...</td>\n",
       "      <td>...</td>\n",
       "      <td>...</td>\n",
       "      <td>...</td>\n",
       "      <td>...</td>\n",
       "      <td>...</td>\n",
       "      <td>...</td>\n",
       "      <td>...</td>\n",
       "    </tr>\n",
       "    <tr>\n",
       "      <th>711</th>\n",
       "      <td>1100.0</td>\n",
       "      <td>55.0</td>\n",
       "      <td>10.0</td>\n",
       "      <td>15045</td>\n",
       "      <td>3</td>\n",
       "      <td>6.0</td>\n",
       "      <td>3.0</td>\n",
       "      <td>55.0</td>\n",
       "      <td>0</td>\n",
       "      <td>4.0</td>\n",
       "      <td>14.0</td>\n",
       "      <td>4</td>\n",
       "      <td>1.8</td>\n",
       "      <td>4.0</td>\n",
       "      <td>7.0</td>\n",
       "      <td>11</td>\n",
       "    </tr>\n",
       "    <tr>\n",
       "      <th>712</th>\n",
       "      <td>1100.0</td>\n",
       "      <td>52.5</td>\n",
       "      <td>3.0</td>\n",
       "      <td>16261</td>\n",
       "      <td>3</td>\n",
       "      <td>7.0</td>\n",
       "      <td>9.0</td>\n",
       "      <td>55.0</td>\n",
       "      <td>0</td>\n",
       "      <td>5.0</td>\n",
       "      <td>17.0</td>\n",
       "      <td>4</td>\n",
       "      <td>18.6</td>\n",
       "      <td>8.0</td>\n",
       "      <td>7.0</td>\n",
       "      <td>11</td>\n",
       "    </tr>\n",
       "    <tr>\n",
       "      <th>713</th>\n",
       "      <td>1100.0</td>\n",
       "      <td>55.0</td>\n",
       "      <td>2.0</td>\n",
       "      <td>15281</td>\n",
       "      <td>3</td>\n",
       "      <td>5.0</td>\n",
       "      <td>11.0</td>\n",
       "      <td>55.0</td>\n",
       "      <td>0</td>\n",
       "      <td>4.0</td>\n",
       "      <td>13.0</td>\n",
       "      <td>4</td>\n",
       "      <td>10.7</td>\n",
       "      <td>11.0</td>\n",
       "      <td>101.0</td>\n",
       "      <td>11</td>\n",
       "    </tr>\n",
       "    <tr>\n",
       "      <th>714</th>\n",
       "      <td>1100.0</td>\n",
       "      <td>55.0</td>\n",
       "      <td>8.0</td>\n",
       "      <td>8603</td>\n",
       "      <td>3</td>\n",
       "      <td>10.0</td>\n",
       "      <td>10.0</td>\n",
       "      <td>55.0</td>\n",
       "      <td>0</td>\n",
       "      <td>7.0</td>\n",
       "      <td>33.0</td>\n",
       "      <td>2</td>\n",
       "      <td>5.4</td>\n",
       "      <td>5.0</td>\n",
       "      <td>101.0</td>\n",
       "      <td>11</td>\n",
       "    </tr>\n",
       "    <tr>\n",
       "      <th>715</th>\n",
       "      <td>1100.0</td>\n",
       "      <td>55.0</td>\n",
       "      <td>9.0</td>\n",
       "      <td>16940</td>\n",
       "      <td>3</td>\n",
       "      <td>9.0</td>\n",
       "      <td>8.0</td>\n",
       "      <td>55.0</td>\n",
       "      <td>0</td>\n",
       "      <td>6.0</td>\n",
       "      <td>22.0</td>\n",
       "      <td>4</td>\n",
       "      <td>9.0</td>\n",
       "      <td>7.0</td>\n",
       "      <td>21.0</td>\n",
       "      <td>11</td>\n",
       "    </tr>\n",
       "  </tbody>\n",
       "</table>\n",
       "<p>687 rows × 16 columns</p>\n",
       "</div>"
      ],
      "text/plain": [
       "     Distance  Weight  Barrier  Jockeyid  Trackcondition  Settling Pos   \n",
       "0      1000.0    58.0      4.0     13529               6           3.0  \\\n",
       "1      1000.0    58.0      2.0     16335               6           4.0   \n",
       "2      1000.0    58.0      5.0     13600               6           7.0   \n",
       "3      1000.0    56.0      1.0     14215               6           5.0   \n",
       "4      1000.0    56.0      9.0     10067               6           9.0   \n",
       "..        ...     ...      ...       ...             ...           ...   \n",
       "711    1100.0    55.0     10.0     15045               3           6.0   \n",
       "712    1100.0    52.5      3.0     16261               3           7.0   \n",
       "713    1100.0    55.0      2.0     15281               3           5.0   \n",
       "714    1100.0    55.0      8.0      8603               3          10.0   \n",
       "715    1100.0    55.0      9.0     16940               3           9.0   \n",
       "\n",
       "     Neural  Limitweight  Weighttype  Age   Rno  Sex  Margin  LSFinPos   LSSP   \n",
       "0       4.0          0.0           2  4.0  12.0    2     6.5      12.0   16.0  \\\n",
       "1       2.0          0.0           2  6.0  13.0    2     0.5       3.0    9.0   \n",
       "2       6.0          0.0           2  4.0  11.0    2    26.0      10.0   19.0   \n",
       "3       1.0          0.0           2  3.0   3.0    2    12.4       5.0    3.4   \n",
       "4       3.0          0.0           2  4.0   1.0    4     5.6       2.0    6.0   \n",
       "..      ...          ...         ...  ...   ...  ...     ...       ...    ...   \n",
       "711     3.0         55.0           0  4.0  14.0    4     1.8       4.0    7.0   \n",
       "712     9.0         55.0           0  5.0  17.0    4    18.6       8.0    7.0   \n",
       "713    11.0         55.0           0  4.0  13.0    4    10.7      11.0  101.0   \n",
       "714    10.0         55.0           0  7.0  33.0    2     5.4       5.0  101.0   \n",
       "715     8.0         55.0           0  6.0  22.0    4     9.0       7.0   21.0   \n",
       "\n",
       "     Starters  \n",
       "0          10  \n",
       "1          10  \n",
       "2          10  \n",
       "3          10  \n",
       "4          10  \n",
       "..        ...  \n",
       "711        11  \n",
       "712        11  \n",
       "713        11  \n",
       "714        11  \n",
       "715        11  \n",
       "\n",
       "[687 rows x 16 columns]"
      ]
     },
     "execution_count": 76,
     "metadata": {},
     "output_type": "execute_result"
    }
   ],
   "source": [
    "from datetime import date, timedelta\n",
    "\n",
    "btdays = 0\n",
    "today = date.today()\n",
    "rundate = today - timedelta(days=btdays)\n",
    "dte = rundate.strftime('%d-%m-%Y')\n",
    "etd = rundate.strftime('%Y-%m-%d')\n",
    "\n",
    "tst_df = pd.read_csv(f'NewData/Test/{etd}-TestFile.csv').rename(columns={\n",
    "    'Meeting': 'Meetingid',\n",
    "    'Race Number': 'Raceid',\n",
    "    'Race Cl': 'Class',\n",
    "    'age restrictions': 'Agerestrictions',\n",
    "    'sex restrictions': 'Sexrestrictions',\n",
    "    'Tab No': 'Tabno'\n",
    "})[LSTM_cols]\n",
    "tst_df.dropna(inplace=True)\n",
    "\n",
    "cat_cols = [col for col in tst_df.columns if tst_df[col].dtype == 'object']\n",
    "for col in cat_cols:\n",
    "    tst_df[col] = encs[col].transform(tst_df[col].astype(str))\n",
    "\n",
    "tst_df"
   ]
  },
  {
   "cell_type": "code",
   "execution_count": 83,
   "metadata": {},
   "outputs": [
    {
     "name": "stdout",
     "output_type": "stream",
     "text": [
      " 1/22 [>.............................] - ETA: 0s"
     ]
    },
    {
     "name": "stdout",
     "output_type": "stream",
     "text": [
      "22/22 [==============================] - 0s 5ms/step\n"
     ]
    },
    {
     "data": {
      "text/html": [
       "<div>\n",
       "<style scoped>\n",
       "    .dataframe tbody tr th:only-of-type {\n",
       "        vertical-align: middle;\n",
       "    }\n",
       "\n",
       "    .dataframe tbody tr th {\n",
       "        vertical-align: top;\n",
       "    }\n",
       "\n",
       "    .dataframe thead th {\n",
       "        text-align: right;\n",
       "    }\n",
       "</style>\n",
       "<table border=\"1\" class=\"dataframe\">\n",
       "  <thead>\n",
       "    <tr style=\"text-align: right;\">\n",
       "      <th></th>\n",
       "      <th>Distance</th>\n",
       "      <th>Weight</th>\n",
       "      <th>Barrier</th>\n",
       "      <th>Jockeyid</th>\n",
       "      <th>Trackcondition</th>\n",
       "      <th>Settling Pos</th>\n",
       "      <th>Neural</th>\n",
       "      <th>Limitweight</th>\n",
       "      <th>Weighttype</th>\n",
       "      <th>Age</th>\n",
       "      <th>Rno</th>\n",
       "      <th>Sex</th>\n",
       "      <th>Margin</th>\n",
       "      <th>LSFinPos</th>\n",
       "      <th>LSSP</th>\n",
       "      <th>Starters</th>\n",
       "      <th>preds%</th>\n",
       "    </tr>\n",
       "  </thead>\n",
       "  <tbody>\n",
       "    <tr>\n",
       "      <th>0</th>\n",
       "      <td>1000.0</td>\n",
       "      <td>58.0</td>\n",
       "      <td>4.0</td>\n",
       "      <td>13529</td>\n",
       "      <td>6</td>\n",
       "      <td>3.0</td>\n",
       "      <td>4.0</td>\n",
       "      <td>0.0</td>\n",
       "      <td>2</td>\n",
       "      <td>4.0</td>\n",
       "      <td>12.0</td>\n",
       "      <td>2</td>\n",
       "      <td>6.5</td>\n",
       "      <td>12.0</td>\n",
       "      <td>16.0</td>\n",
       "      <td>10</td>\n",
       "      <td>10.297894</td>\n",
       "    </tr>\n",
       "    <tr>\n",
       "      <th>1</th>\n",
       "      <td>1000.0</td>\n",
       "      <td>58.0</td>\n",
       "      <td>2.0</td>\n",
       "      <td>16335</td>\n",
       "      <td>6</td>\n",
       "      <td>4.0</td>\n",
       "      <td>2.0</td>\n",
       "      <td>0.0</td>\n",
       "      <td>2</td>\n",
       "      <td>6.0</td>\n",
       "      <td>13.0</td>\n",
       "      <td>2</td>\n",
       "      <td>0.5</td>\n",
       "      <td>3.0</td>\n",
       "      <td>9.0</td>\n",
       "      <td>10</td>\n",
       "      <td>52.548893</td>\n",
       "    </tr>\n",
       "    <tr>\n",
       "      <th>2</th>\n",
       "      <td>1000.0</td>\n",
       "      <td>58.0</td>\n",
       "      <td>5.0</td>\n",
       "      <td>13600</td>\n",
       "      <td>6</td>\n",
       "      <td>7.0</td>\n",
       "      <td>6.0</td>\n",
       "      <td>0.0</td>\n",
       "      <td>2</td>\n",
       "      <td>4.0</td>\n",
       "      <td>11.0</td>\n",
       "      <td>2</td>\n",
       "      <td>26.0</td>\n",
       "      <td>10.0</td>\n",
       "      <td>19.0</td>\n",
       "      <td>10</td>\n",
       "      <td>14.007733</td>\n",
       "    </tr>\n",
       "    <tr>\n",
       "      <th>3</th>\n",
       "      <td>1000.0</td>\n",
       "      <td>56.0</td>\n",
       "      <td>1.0</td>\n",
       "      <td>14215</td>\n",
       "      <td>6</td>\n",
       "      <td>5.0</td>\n",
       "      <td>1.0</td>\n",
       "      <td>0.0</td>\n",
       "      <td>2</td>\n",
       "      <td>3.0</td>\n",
       "      <td>3.0</td>\n",
       "      <td>2</td>\n",
       "      <td>12.4</td>\n",
       "      <td>5.0</td>\n",
       "      <td>3.4</td>\n",
       "      <td>10</td>\n",
       "      <td>6.316266</td>\n",
       "    </tr>\n",
       "    <tr>\n",
       "      <th>4</th>\n",
       "      <td>1000.0</td>\n",
       "      <td>56.0</td>\n",
       "      <td>9.0</td>\n",
       "      <td>10067</td>\n",
       "      <td>6</td>\n",
       "      <td>9.0</td>\n",
       "      <td>3.0</td>\n",
       "      <td>0.0</td>\n",
       "      <td>2</td>\n",
       "      <td>4.0</td>\n",
       "      <td>1.0</td>\n",
       "      <td>4</td>\n",
       "      <td>5.6</td>\n",
       "      <td>2.0</td>\n",
       "      <td>6.0</td>\n",
       "      <td>10</td>\n",
       "      <td>27.841240</td>\n",
       "    </tr>\n",
       "    <tr>\n",
       "      <th>...</th>\n",
       "      <td>...</td>\n",
       "      <td>...</td>\n",
       "      <td>...</td>\n",
       "      <td>...</td>\n",
       "      <td>...</td>\n",
       "      <td>...</td>\n",
       "      <td>...</td>\n",
       "      <td>...</td>\n",
       "      <td>...</td>\n",
       "      <td>...</td>\n",
       "      <td>...</td>\n",
       "      <td>...</td>\n",
       "      <td>...</td>\n",
       "      <td>...</td>\n",
       "      <td>...</td>\n",
       "      <td>...</td>\n",
       "      <td>...</td>\n",
       "    </tr>\n",
       "    <tr>\n",
       "      <th>711</th>\n",
       "      <td>1100.0</td>\n",
       "      <td>55.0</td>\n",
       "      <td>10.0</td>\n",
       "      <td>15045</td>\n",
       "      <td>3</td>\n",
       "      <td>6.0</td>\n",
       "      <td>3.0</td>\n",
       "      <td>55.0</td>\n",
       "      <td>0</td>\n",
       "      <td>4.0</td>\n",
       "      <td>14.0</td>\n",
       "      <td>4</td>\n",
       "      <td>1.8</td>\n",
       "      <td>4.0</td>\n",
       "      <td>7.0</td>\n",
       "      <td>11</td>\n",
       "      <td>55.749321</td>\n",
       "    </tr>\n",
       "    <tr>\n",
       "      <th>712</th>\n",
       "      <td>1100.0</td>\n",
       "      <td>52.5</td>\n",
       "      <td>3.0</td>\n",
       "      <td>16261</td>\n",
       "      <td>3</td>\n",
       "      <td>7.0</td>\n",
       "      <td>9.0</td>\n",
       "      <td>55.0</td>\n",
       "      <td>0</td>\n",
       "      <td>5.0</td>\n",
       "      <td>17.0</td>\n",
       "      <td>4</td>\n",
       "      <td>18.6</td>\n",
       "      <td>8.0</td>\n",
       "      <td>7.0</td>\n",
       "      <td>11</td>\n",
       "      <td>5.208004</td>\n",
       "    </tr>\n",
       "    <tr>\n",
       "      <th>713</th>\n",
       "      <td>1100.0</td>\n",
       "      <td>55.0</td>\n",
       "      <td>2.0</td>\n",
       "      <td>15281</td>\n",
       "      <td>3</td>\n",
       "      <td>5.0</td>\n",
       "      <td>11.0</td>\n",
       "      <td>55.0</td>\n",
       "      <td>0</td>\n",
       "      <td>4.0</td>\n",
       "      <td>13.0</td>\n",
       "      <td>4</td>\n",
       "      <td>10.7</td>\n",
       "      <td>11.0</td>\n",
       "      <td>101.0</td>\n",
       "      <td>11</td>\n",
       "      <td>0.735837</td>\n",
       "    </tr>\n",
       "    <tr>\n",
       "      <th>714</th>\n",
       "      <td>1100.0</td>\n",
       "      <td>55.0</td>\n",
       "      <td>8.0</td>\n",
       "      <td>8603</td>\n",
       "      <td>3</td>\n",
       "      <td>10.0</td>\n",
       "      <td>10.0</td>\n",
       "      <td>55.0</td>\n",
       "      <td>0</td>\n",
       "      <td>7.0</td>\n",
       "      <td>33.0</td>\n",
       "      <td>2</td>\n",
       "      <td>5.4</td>\n",
       "      <td>5.0</td>\n",
       "      <td>101.0</td>\n",
       "      <td>11</td>\n",
       "      <td>2.112700</td>\n",
       "    </tr>\n",
       "    <tr>\n",
       "      <th>715</th>\n",
       "      <td>1100.0</td>\n",
       "      <td>55.0</td>\n",
       "      <td>9.0</td>\n",
       "      <td>16940</td>\n",
       "      <td>3</td>\n",
       "      <td>9.0</td>\n",
       "      <td>8.0</td>\n",
       "      <td>55.0</td>\n",
       "      <td>0</td>\n",
       "      <td>6.0</td>\n",
       "      <td>22.0</td>\n",
       "      <td>4</td>\n",
       "      <td>9.0</td>\n",
       "      <td>7.0</td>\n",
       "      <td>21.0</td>\n",
       "      <td>11</td>\n",
       "      <td>3.490504</td>\n",
       "    </tr>\n",
       "  </tbody>\n",
       "</table>\n",
       "<p>687 rows × 17 columns</p>\n",
       "</div>"
      ],
      "text/plain": [
       "     Distance  Weight  Barrier  Jockeyid  Trackcondition  Settling Pos   \n",
       "0      1000.0    58.0      4.0     13529               6           3.0  \\\n",
       "1      1000.0    58.0      2.0     16335               6           4.0   \n",
       "2      1000.0    58.0      5.0     13600               6           7.0   \n",
       "3      1000.0    56.0      1.0     14215               6           5.0   \n",
       "4      1000.0    56.0      9.0     10067               6           9.0   \n",
       "..        ...     ...      ...       ...             ...           ...   \n",
       "711    1100.0    55.0     10.0     15045               3           6.0   \n",
       "712    1100.0    52.5      3.0     16261               3           7.0   \n",
       "713    1100.0    55.0      2.0     15281               3           5.0   \n",
       "714    1100.0    55.0      8.0      8603               3          10.0   \n",
       "715    1100.0    55.0      9.0     16940               3           9.0   \n",
       "\n",
       "     Neural  Limitweight  Weighttype  Age   Rno  Sex  Margin  LSFinPos   LSSP   \n",
       "0       4.0          0.0           2  4.0  12.0    2     6.5      12.0   16.0  \\\n",
       "1       2.0          0.0           2  6.0  13.0    2     0.5       3.0    9.0   \n",
       "2       6.0          0.0           2  4.0  11.0    2    26.0      10.0   19.0   \n",
       "3       1.0          0.0           2  3.0   3.0    2    12.4       5.0    3.4   \n",
       "4       3.0          0.0           2  4.0   1.0    4     5.6       2.0    6.0   \n",
       "..      ...          ...         ...  ...   ...  ...     ...       ...    ...   \n",
       "711     3.0         55.0           0  4.0  14.0    4     1.8       4.0    7.0   \n",
       "712     9.0         55.0           0  5.0  17.0    4    18.6       8.0    7.0   \n",
       "713    11.0         55.0           0  4.0  13.0    4    10.7      11.0  101.0   \n",
       "714    10.0         55.0           0  7.0  33.0    2     5.4       5.0  101.0   \n",
       "715     8.0         55.0           0  6.0  22.0    4     9.0       7.0   21.0   \n",
       "\n",
       "     Starters     preds%  \n",
       "0          10  10.297894  \n",
       "1          10  52.548893  \n",
       "2          10  14.007733  \n",
       "3          10   6.316266  \n",
       "4          10  27.841240  \n",
       "..        ...        ...  \n",
       "711        11  55.749321  \n",
       "712        11   5.208004  \n",
       "713        11   0.735837  \n",
       "714        11   2.112700  \n",
       "715        11   3.490504  \n",
       "\n",
       "[687 rows x 17 columns]"
      ]
     },
     "execution_count": 83,
     "metadata": {},
     "output_type": "execute_result"
    }
   ],
   "source": [
    "tst_df['preds%'] = predict(tst_df) * 100\n",
    "tst_df['preds%'][tst_df['preds%'] > 100] = 100\n",
    "tst_df['preds%'][tst_df['preds%'] < 0] = 0\n",
    "tst_df"
   ]
  },
  {
   "cell_type": "code",
   "execution_count": 85,
   "metadata": {},
   "outputs": [],
   "source": [
    "tst_df.to_csv(f'Predictions/{etd}-Predictions.csv', index=False)"
   ]
  },
  {
   "cell_type": "code",
   "execution_count": null,
   "metadata": {},
   "outputs": [
    {
     "data": {
      "text/plain": [
       "datetime.date(2023, 11, 9)"
      ]
     },
     "metadata": {},
     "output_type": "display_data"
    }
   ],
   "source": [
    "import pandas as pd\n",
    "from datetime import date\n",
    "from datetime import date, timedelta\n",
    "import json\n",
    "from urllib.request import urlopen\n",
    "import requests\n",
    "import time\n",
    "import glob\n",
    "import os\n",
    "\n",
    "today = date(int(input('Enter Year:')),\n",
    "             int(input('Enter Month:')),\n",
    "             int(input('Enter Day:')))\n",
    "\n",
    "today"
   ]
  },
  {
   "cell_type": "code",
   "execution_count": null,
   "metadata": {},
   "outputs": [
    {
     "data": {
      "text/plain": [
       "'2023-11-09'"
      ]
     },
     "metadata": {},
     "output_type": "display_data"
    }
   ],
   "source": [
    "rundate = today + timedelta(days=0)\n",
    "dte = rundate.strftime('%d-%m-%Y')\n",
    "etd = rundate.strftime('%Y-%m-%d')\n",
    "etd"
   ]
  },
  {
   "cell_type": "code",
   "execution_count": null,
   "metadata": {},
   "outputs": [
    {
     "data": {
      "text/plain": [
       "'09-11-2023'"
      ]
     },
     "metadata": {},
     "output_type": "display_data"
    }
   ],
   "source": [
    "dte"
   ]
  }
 ],
 "metadata": {
  "kernelspec": {
   "display_name": "Python 3",
   "language": "python",
   "name": "python3"
  },
  "language_info": {
   "codemirror_mode": {
    "name": "ipython",
    "version": 3
   },
   "file_extension": ".py",
   "mimetype": "text/x-python",
   "name": "python",
   "nbconvert_exporter": "python",
   "pygments_lexer": "ipython3",
   "version": "3.9.4"
  }
 },
 "nbformat": 4,
 "nbformat_minor": 2
}
